{
 "cells": [
  {
   "cell_type": "markdown",
   "id": "4fefac74",
   "metadata": {},
   "source": [
    "# Sistema de Recomendação de Filmes\n",
    "\n",
    "Este caderno implementa duas abordagens fundamentais de sistemas de recomendação baseadas em\n",
    "\"Sistemas de Recomendação Práticos\" de Kim Falk:\n",
    "\n",
    "1. **Filtragem Colaborativa**: Utiliza interações usuário-item para encontrar usuários ou itens semelhantes\n",
    "2. **Filtragem Baseada em Conteúdo**: Utiliza características do item (gêneros, tags) para recomendar itens semelhantes\n",
    "\n",
    "## Contexto Teórico\n",
    "\n",
    "### Filtragem Colaborativa na Vizinhança (Capítulo 8, Falk)\n",
    "- **CF Baseada no Usuário**: Encontra usuários semelhantes ao usuário-alvo e recomenda os itens que eles gostaram\n",
    "- **CF Baseada no Item**: Encontra itens semelhantes aos que o usuário gostou (nós implementamos isso)\n",
    "- **Métodos de Vizinhança**: Utiliza k-vizinhos mais próximos com base em métricas de similaridade\n",
    "- **Métrica de Similaridade**: A similaridade do cosseno mede o ângulo entre os vetores de classificação\n",
    "\n",
    "### Filtragem Baseada em Conteúdo (Capítulo 10, Falk)\n",
    "- Utiliza metadados de itens (gêneros, tags) para calcular a similaridade dos itens\n",
    "- **TF-IDF**: Frequência de Termos - Frequência Inversa de Documentos pondera os termos por importância em todo o corpus\n",
    "- **Modelo de Espaço Vetorial**: Representa itens como vetores no espaço de características\n",
    "- Recomenda itens semelhantes àqueles que o usuário avaliou positivamente\n"
   ]
  },
  {
   "cell_type": "code",
   "execution_count": null,
   "id": "37d083bb",
   "metadata": {},
   "outputs": [],
   "source": [
    "import re\n",
    "import warnings\n",
    "import unicodedata\n",
    "import kagglehub\n",
    "import polars as pl\n",
    "import numpy as np\n",
    "from pathlib import Path\n",
    "from nltk.corpus import stopwords\n",
    "from sklearn.metrics.pairwise import cosine_similarity\n",
    "from scipy.sparse import csr_matrix\n",
    "\n",
    "warnings.filterwarnings(\"ignore\")"
   ]
  },
  {
   "cell_type": "markdown",
   "id": "92a90b3e",
   "metadata": {},
   "source": [
    "## Carregamento dos Dados\n",
    "\n",
    "Utilizamos o dataset MovieLens do Kaggle, que contém avaliações de filmes, metadados e tags geradas por usuários.\n",
    "O dataset é baixado automaticamente via `kagglehub`."
   ]
  },
  {
   "cell_type": "code",
   "execution_count": null,
   "id": "c2e50d59",
   "metadata": {},
   "outputs": [],
   "source": [
    "# Download latest version\n",
    "path = kagglehub.dataset_download(\"aigamer/movie-lens-dataset\")\n",
    "\n",
    "# tmdb_path = kagglehub.dataset_download(\"asaniczka/tmdb-movies-dataset-2023-930k-movies\")"
   ]
  },
  {
   "cell_type": "markdown",
   "id": "28e2186a",
   "metadata": {},
   "source": [
    "### Funções Auxiliares\n",
    "\n",
    "Definimos funções utilitárias para:\n",
    "- **Calcular esparsidade**: Mede a proporção de valores zero na matriz\n",
    "- **Remover acentos**: Normaliza texto para processamento\n",
    "- **Limpar texto**: Remove stopwords e normaliza para análise de conteúdo"
   ]
  },
  {
   "cell_type": "code",
   "execution_count": null,
   "id": "413ac599",
   "metadata": {
    "lines_to_next_cell": 1
   },
   "outputs": [],
   "source": [
    "STOPWORDS = set(stopwords.words(\"english\"))\n",
    "\n",
    "\n",
    "def calculate_sparsity(df: pl.DataFrame) -> float:\n",
    "    \"\"\"Calcula a proporção de valores zero/nulos no DataFrame.\"\"\"\n",
    "    total_elements = df.shape[0] * df.shape[1]\n",
    "\n",
    "    zeros = (\n",
    "        df.fill_null(0)\n",
    "        .select(pl.sum_horizontal(df.fill_null(0) == 0))\n",
    "        .to_series()\n",
    "        .sum()\n",
    "    )\n",
    "\n",
    "    sparsity = zeros / total_elements\n",
    "    return sparsity\n",
    "\n",
    "\n",
    "def remove_accents(text: str) -> str:\n",
    "    \"\"\"\n",
    "    Remove acentuação de um texto usando normalização Unicode.\n",
    "    Útil para padronizar termos de diferentes idiomas.\n",
    "    \"\"\"\n",
    "    return \"\".join(\n",
    "        ch\n",
    "        for ch in unicodedata.normalize(\"NFD\", text)\n",
    "        if unicodedata.category(ch) != \"Mn\"\n",
    "    )\n",
    "\n",
    "\n",
    "def clean_text(text):\n",
    "    \"\"\"Remove acentos, converte para minúsculas e filtra stopwords.\"\"\"\n",
    "    text = remove_accents(text.lower())\n",
    "    tokens = text.split()\n",
    "    filtered = \" \".join([t for t in tokens if t not in STOPWORDS])\n",
    "    return filtered"
   ]
  },
  {
   "cell_type": "markdown",
   "id": "d1da0f9a",
   "metadata": {},
   "source": [
    "## Carregamento e Exploração dos Dados"
   ]
  },
  {
   "cell_type": "code",
   "execution_count": null,
   "id": "35f79d65",
   "metadata": {},
   "outputs": [],
   "source": [
    "# Load datasets\n",
    "links = pl.read_csv(Path(path, \"links.csv\"))\n",
    "movies = pl.read_csv(Path(path, \"movies.csv\"))\n",
    "ratings = pl.read_csv(Path(path, \"ratings.csv\"))\n",
    "tags = pl.read_csv(Path(path, \"tags.csv\"))\n",
    "\n",
    "print(f\"Movies: {len(movies)}, Ratings: {len(ratings)}, Tags: {len(tags)}\")"
   ]
  },
  {
   "cell_type": "markdown",
   "id": "e553c6aa",
   "metadata": {},
   "source": [
    "## Dicionário de Dados\n",
    "\n",
    "* `userId`: Identificador único de cada usuário\n",
    "* `movieId`: Identificador único de cada filme\n",
    "* `title`: Título do filme\n",
    "* `rating`: notas de 0 a 5\n",
    "* `genres`: Gênero de cada filme com os seguintes valores possíveis;\n",
    "    * Action\n",
    "    * Adventure\n",
    "    * Animation\n",
    "    * Children's\n",
    "    * Comedy\n",
    "    * Crime\n",
    "    * Documentary\n",
    "    * Drama\n",
    "    * Fantasy\n",
    "    * Film-Noir\n",
    "    * Horror\n",
    "    * Musical\n",
    "    * Mystery\n",
    "    * Romance\n",
    "    * Sci-Fi\n",
    "    * Thriller\n",
    "    * War\n",
    "    * Western\n",
    "    * (no genres listed)\n",
    "* `tag`: Metadados gerados pelos usuários\n",
    "* `timestamp`: Unix timestamp da ação"
   ]
  },
  {
   "cell_type": "code",
   "execution_count": null,
   "id": "cce9436f",
   "metadata": {},
   "outputs": [],
   "source": [
    "print(\"Filmes:\")\n",
    "display(movies.head())\n",
    "print(\"\\nAvaliações:\")\n",
    "display(ratings.head())\n",
    "print(\"\\nTags:\")\n",
    "display(tags.head())"
   ]
  },
  {
   "cell_type": "markdown",
   "id": "75f07635",
   "metadata": {},
   "source": [
    "## Pré-processamento\n",
    "\n",
    "Preparamos os dados para ambas as abordagens:\n",
    "1. **Normalizar gêneros**: Substituir separadores `|` por espaços para facilitar vetorização TF-IDF\n",
    "2. **Converter timestamps**: Transformar Unix timestamps em objetos datetime legíveis\n",
    "3. **Criar matriz usuário-item**: Estrutura fundamental para filtragem colaborativa"
   ]
  },
  {
   "cell_type": "code",
   "execution_count": null,
   "id": "c4451259",
   "metadata": {},
   "outputs": [],
   "source": [
    "movies = movies.with_columns(\n",
    "    pl.col(\"genres\")\n",
    "    .str.replace_all(r\"\\|\", \" \")  # replace '|' with space\n",
    "    .alias(\"genres\")\n",
    ")\n",
    "ratings = ratings.with_columns(pl.from_epoch(\"timestamp\", time_unit=\"s\"))\n",
    "tags = tags.with_columns(pl.from_epoch(\"timestamp\", time_unit=\"s\"))"
   ]
  },
  {
   "cell_type": "code",
   "execution_count": null,
   "id": "8b45b7f2",
   "metadata": {},
   "outputs": [],
   "source": [
    "tags"
   ]
  },
  {
   "cell_type": "code",
   "execution_count": null,
   "id": "433d2d22",
   "metadata": {},
   "outputs": [],
   "source": [
    "print(\"Pré-processamento completo!\")\n",
    "print(\"Filmes:\")\n",
    "display(movies.head())\n",
    "print(\"\\nAvaliações:\")\n",
    "display(ratings.head())\n",
    "print(\"\\nTags:\")\n",
    "display(tags.head())"
   ]
  },
  {
   "cell_type": "markdown",
   "id": "88273ff3",
   "metadata": {},
   "source": [
    "## Implementação da Filtragem Colaborativa\n",
    "\n",
    "### Fundamentação Teórica (Capítulo 8, Falk)\n",
    "\n",
    "A filtragem colaborativa pressupõe que os usuários que concordaram no passado concordarão no futuro.\n",
    "O Capítulo 8 aborda **métodos baseados em vizinhança**, que encontram usuários ou itens semelhantes.\n",
    "\n",
    "Implementamos a **filtragem colaborativa baseada em itens** que:\n",
    "\n",
    "1. Calcula a similaridade item-item usando a similaridade de cosseno na matriz usuário-item\n",
    "2. Para um usuário-alvo, identifica os itens que ele avaliou positivamente\n",
    "3. Encontra itens semelhantes que o usuário ainda não viu (a \"vizinhança\")\n",
    "4. Classifica as recomendações pela avaliação prevista\n",
    "\n",
    "**Fórmula de Similaridade de Cosseno**:\n",
    "$\\text{sim}(i, j) = \\frac{\\sum_{u \\in U} r_{u,i} \\cdot r_{u,j}}{\\sqrt{\\sum_{u \\in U} r_{u,i}^2} \\cdot \\sqrt{\\sum_{u \\in U} r_{u,j}^2}}$\n",
    "\n",
    "Onde $r_{u,i}$ é a avaliação do usuário $u$ para o item $i$."
   ]
  },
  {
   "cell_type": "markdown",
   "id": "6d60cb28",
   "metadata": {},
   "source": [
    "### Construção da Matriz Usuário-Item\n",
    "\n",
    "A matriz usuário-item é o coração da filtragem colaborativa. Cada célula $(u, i)$ contém a avaliação\n",
    "do usuário $u$ para o item $i$. Usamos pivotamento para transformar os dados em formato longo\n",
    "para uma matriz 2D onde:\n",
    "- **Linhas**: representam usuários\n",
    "- **Colunas**: representam filmes\n",
    "- **Valores**: avaliações (ratings)"
   ]
  },
  {
   "cell_type": "code",
   "execution_count": null,
   "id": "ebe0f04b",
   "metadata": {},
   "outputs": [],
   "source": [
    "user_item_matrix = ratings.pivot(\n",
    "    values=\"rating\",\n",
    "    index=\"userId\",\n",
    "    columns=\"movieId\",\n",
    "    aggregate_function=\"max\",\n",
    ")\n",
    "\n",
    "# Store userIs and movieIds\n",
    "user_ids = user_item_matrix.select(\"userId\").to_series().to_numpy()\n",
    "movie_ids = [col for col in user_item_matrix.columns if col != \"userId\"]"
   ]
  },
  {
   "cell_type": "code",
   "execution_count": null,
   "id": "e538c5ab",
   "metadata": {},
   "outputs": [],
   "source": [
    "user_item_matrix.head()"
   ]
  },
  {
   "cell_type": "markdown",
   "id": "00a5e835",
   "metadata": {},
   "source": [
    "### Análise de Esparsidade\n",
    "\n",
    "Nossa matriz usuário-item tem dimensões (611 × 9,725) e consome 45MB. \n",
    "Este tamanho é gerenciável, mas em sistemas reais com milhões de usuários e itens,\n",
    "a representação densa seria inviável."
   ]
  },
  {
   "cell_type": "code",
   "execution_count": null,
   "id": "89e663b4",
   "metadata": {},
   "outputs": [],
   "source": [
    "# Estimated memory usage in bytes\n",
    "memory_bytes = user_item_matrix.estimated_size()\n",
    "print(f\"Estimated memory usage: {memory_bytes / (1024**2):.2f} MB\")"
   ]
  },
  {
   "cell_type": "markdown",
   "id": "2dff042f",
   "metadata": {},
   "source": [
    "A matriz apresenta ~98% de esparsidade, típico em sistemas de recomendação onde\n",
    "a maioria dos usuários interage com apenas uma pequena fração dos itens disponíveis.\n",
    "Isso justifica o uso de representações esparsas para eficiência computacional e de memória."
   ]
  },
  {
   "cell_type": "code",
   "execution_count": null,
   "id": "09f63ed2",
   "metadata": {},
   "outputs": [],
   "source": [
    "sparsity = calculate_sparsity(user_item_matrix)\n",
    "print(f\"Sparsity: {sparsity:.2%}\")"
   ]
  },
  {
   "cell_type": "markdown",
   "id": "8c1325ef",
   "metadata": {},
   "source": [
    "### Distribuição de Avaliações por Usuário\n",
    "\n",
    "Analisamos quantos filmes cada usuário avaliou para entender o padrão de engajamento.\n",
    "A mediana e moda revelam que a maioria dos usuários avalia poucos filmes em relação\n",
    "ao catálogo total de 9.742 filmes disponíveis."
   ]
  },
  {
   "cell_type": "code",
   "execution_count": null,
   "id": "b7ce98f4",
   "metadata": {},
   "outputs": [],
   "source": [
    "ratings_per_user = ratings.group_by(\"userId\").agg(\n",
    "    pl.count(\"movieId\").alias(\"num_ratings\")\n",
    ")\n",
    "\n",
    "median_ratings = ratings_per_user.select(pl.col(\"num_ratings\").median()).item()\n",
    "mode_ratings = ratings_per_user.select(pl.col(\"num_ratings\").mode()).item()\n",
    "\n",
    "print(\n",
    "    f\"Até 50% dos usuários avaliam {median_ratings:.0f} filmes ou menos.\\n\"\n",
    "    f\"O número mais comum de avaliações por usuário é {mode_ratings}.\"\n",
    ")"
   ]
  },
  {
   "cell_type": "markdown",
   "id": "16adbede",
   "metadata": {},
   "source": [
    "### Conversão para Matriz Esparsa\n",
    "\n",
    "Convertemos para formato CSR (Compressed Sparse Row) do SciPy, que:\n",
    "- **Armazena apenas valores não-zero** e suas posições\n",
    "- **Reduz drasticamente o uso de memória** (de 45MB para ~1MB neste caso)\n",
    "- **Acelera operações matriciais** quando a matriz é esparsa\n",
    "- É a estrutura ideal para cálculo de similaridade em matrizes esparsas"
   ]
  },
  {
   "cell_type": "code",
   "execution_count": null,
   "id": "4655551f",
   "metadata": {},
   "outputs": [],
   "source": [
    "from scipy.sparse import csr_matrix\n",
    "\n",
    "user_item_matrix_values = user_item_matrix.select(movie_ids).fill_null(0).to_numpy()\n",
    "user_item_matrix_crs = csr_matrix(user_item_matrix_values.T)"
   ]
  },
  {
   "cell_type": "code",
   "execution_count": null,
   "id": "a644e506",
   "metadata": {},
   "outputs": [],
   "source": [
    "user_item_matrix_crs"
   ]
  },
  {
   "cell_type": "markdown",
   "id": "973b59ef",
   "metadata": {},
   "source": [
    "### Cálculo da Similaridade Item-Item\n",
    "\n",
    "Computamos a matriz de similaridade cosseno entre todos os pares de filmes.\n",
    "Cada célula $(i, j)$ representa quão similares são os filmes $i$ e $j$ baseado\n",
    "nos padrões de avaliação dos usuários.\n",
    "\n",
    "**Intuição**: Filmes com vetores de avaliação similares (avaliados de forma parecida\n",
    "pelos mesmos usuários) terão alta similaridade cosseno.\n",
    "\n",
    "$$\n",
    "\\text{similarity}(i, j) = \\frac{\\mathbf{v}_i \\cdot \\mathbf{v}_j}{\\|\\mathbf{v}_i\\| \\, \\|\\mathbf{v}_j\\|}\n",
    "$$\n",
    "\n",
    "onde $\\mathbf{v}_i$ e $\\mathbf{v}_j$ são os vetores de avaliação dos itens $i$ e $j$."
   ]
  },
  {
   "cell_type": "code",
   "execution_count": null,
   "id": "60b17729",
   "metadata": {},
   "outputs": [],
   "source": [
    "item_similarity = cosine_similarity(user_item_matrix_crs, dense_output=False)"
   ]
  },
  {
   "cell_type": "markdown",
   "id": "49260cf2",
   "metadata": {},
   "source": [
    "### Pré-computação dos K-Vizinhos Mais Próximos\n",
    "\n",
    "Para eficiência em tempo de execução, pré-computamos os top-K vizinhos mais similares\n",
    "para cada filme. Isso evita percorrer toda a matriz de similaridade durante a predição,\n",
    "reduzindo a complexidade de O(n) para O(k) onde k << n."
   ]
  },
  {
   "cell_type": "code",
   "execution_count": null,
   "id": "b2dfb4c0",
   "metadata": {
    "lines_to_next_cell": 1
   },
   "outputs": [],
   "source": [
    "item_similarity_dense = item_similarity.toarray()\n",
    "\n",
    "# Precompute top-K neighbors for each item\n",
    "k_neighbors = 20\n",
    "top_k_neighbors = {}\n",
    "\n",
    "for i, movie_id in enumerate(movie_ids):\n",
    "    # Get similarities for this movie\n",
    "    sims = item_similarity_dense[i]\n",
    "    # Get indices of top-k items (excluding self)\n",
    "    top_indices = np.argsort(sims)[-k_neighbors:][::-1]\n",
    "    top_k_neighbors[movie_id] = [movie_ids[idx] for idx in top_indices]"
   ]
  },
  {
   "cell_type": "markdown",
   "id": "6064e0d6",
   "metadata": {},
   "source": [
    "### Funções de Predição e Recomendação\n",
    "\n",
    "**Predição de Rating**: Estima a avaliação de um usuário para um filme não-visto\n",
    "usando média ponderada das avaliações dos filmes similares que o usuário já avaliou.\n",
    "\n",
    "**Algoritmo de Recomendação**:\n",
    "1. Identifica filmes não-vistos pelo usuário\n",
    "2. Prediz rating para cada filme não-visto\n",
    "3. Ordena por rating predito decrescente\n",
    "4. Retorna top-N recomendações"
   ]
  },
  {
   "cell_type": "code",
   "execution_count": null,
   "id": "7bc4719e",
   "metadata": {
    "lines_to_next_cell": 1
   },
   "outputs": [],
   "source": [
    "def predict_rating(\n",
    "    user_id,\n",
    "    movie_id,\n",
    "    user_item_values,\n",
    "    user_ids,\n",
    "    movie_ids,\n",
    "    item_similarity_dense,\n",
    "    top_k_neighbors,\n",
    "):\n",
    "    \"\"\"\n",
    "    Prediz o rating que um usuário daria a um filme usando CF baseada em itens.\n",
    "    \n",
    "    Fórmula: r̂(u,i) = Σ(sim(i,j) × r(u,j)) / Σ(sim(i,j))\n",
    "    onde j são os vizinhos de i que u avaliou.\n",
    "    \"\"\"\n",
    "    # Find user index\n",
    "    user_idx = np.where(user_ids == user_id)[0]\n",
    "    if len(user_idx) == 0 or movie_id not in movie_ids:\n",
    "        return 0.0\n",
    "\n",
    "    user_idx = user_idx[0]\n",
    "    movie_idx = movie_ids.index(movie_id)\n",
    "\n",
    "    # Get user's ratings\n",
    "    user_ratings = user_item_values[user_idx]\n",
    "\n",
    "    # Get neighbors that user has rated\n",
    "    neighbors = top_k_neighbors[movie_id]\n",
    "    neighbor_indices = [\n",
    "        i for i, mid in enumerate(movie_ids) if mid in neighbors and user_ratings[i] > 0\n",
    "    ]\n",
    "\n",
    "    if not neighbor_indices:\n",
    "        return 0.0\n",
    "\n",
    "    # Get similarities and ratings for neighbors\n",
    "    similarities = item_similarity_dense[movie_idx, neighbor_indices]\n",
    "    neighbor_ratings = user_ratings[neighbor_indices]\n",
    "\n",
    "    weighted_sum = np.sum(similarities * neighbor_ratings)\n",
    "    similarity_sum = np.sum(similarities)\n",
    "\n",
    "    return float(weighted_sum / similarity_sum) if similarity_sum > 0 else 0.0\n",
    "\n",
    "\n",
    "def recommend_cf(\n",
    "    user_id,\n",
    "    user_item_values,\n",
    "    user_ids,\n",
    "    movie_ids,\n",
    "    item_similarity_dense,\n",
    "    top_k_neighbors,\n",
    "    movies,\n",
    "    top_n=10,\n",
    "):\n",
    "    \"\"\"Gera top-N recomendações de filmes para um usuário usando CF baseada em itens.\"\"\"\n",
    "    # Find user index\n",
    "    user_idx = np.where(user_ids == user_id)[0]\n",
    "    if len(user_idx) == 0:\n",
    "        return pl.DataFrame()\n",
    "\n",
    "    user_idx = user_idx[0]\n",
    "    user_ratings = user_item_values[user_idx]\n",
    "\n",
    "    # Find unrated movies\n",
    "    unrated_indices = np.where(user_ratings == 0)[0]\n",
    "    unrated_movie_ids = [movie_ids[i] for i in unrated_indices]\n",
    "\n",
    "    predictions = []\n",
    "    for movie_id in unrated_movie_ids:\n",
    "        pred = predict_rating(\n",
    "            user_id,\n",
    "            movie_id,\n",
    "            user_item_values,\n",
    "            user_ids,\n",
    "            movie_ids,\n",
    "            item_similarity_dense,\n",
    "            top_k_neighbors,\n",
    "        )\n",
    "        if pred > 0:\n",
    "            predictions.append({\"movieId\": movie_id, \"predicted_rating\": pred})\n",
    "\n",
    "    if not predictions:\n",
    "        return pl.DataFrame()\n",
    "\n",
    "    # Create Polars DataFrame and sort\n",
    "    recommendations = (\n",
    "        pl.DataFrame(predictions)\n",
    "        .with_columns(pl.col(\"movieId\").cast(pl.Int64))\n",
    "        .sort(\"predicted_rating\", descending=True)\n",
    "        .head(top_n)\n",
    "    )\n",
    "\n",
    "    # Join with movies data\n",
    "    return recommendations.join(\n",
    "        movies.select([\"movieId\", \"title\", \"genres\"]), on=\"movieId\", how=\"left\"\n",
    "    )"
   ]
  },
  {
   "cell_type": "markdown",
   "id": "c8dccbc5",
   "metadata": {},
   "source": [
    "### Teste do Sistema de Filtragem Colaborativa\n",
    "\n",
    "Testamos o recomendador CF com um usuário específico:\n",
    "1. Mostramos os filmes que o usuário avaliou com maiores notas\n",
    "2. Geramos recomendações baseadas em similaridade com esses filmes\n",
    "3. A ideia é que as recomendações sejam similares aos filmes bem avaliados"
   ]
  },
  {
   "cell_type": "code",
   "execution_count": null,
   "id": "ed7f98d5",
   "metadata": {},
   "outputs": [],
   "source": [
    "test_user = 1"
   ]
  },
  {
   "cell_type": "code",
   "execution_count": null,
   "id": "d2f291e2",
   "metadata": {},
   "outputs": [],
   "source": [
    "# User's top-rated movies\n",
    "user_top_ratings = (\n",
    "    ratings.filter(pl.col(\"userId\") == test_user)\n",
    "    .join(movies.select([\"movieId\", \"title\", \"genres\"]), on=\"movieId\", how=\"left\")\n",
    "    .sort(\"rating\", descending=True)\n",
    "    .head(5)\n",
    "    .select([\"title\", \"rating\", \"genres\"])\n",
    ")\n",
    "print(\"\\nUser's Top-Rated Movies:\")\n",
    "print(user_top_ratings)"
   ]
  },
  {
   "cell_type": "code",
   "execution_count": null,
   "id": "a26fc0d0",
   "metadata": {},
   "outputs": [],
   "source": [
    "cf_recommendations = recommend_cf(\n",
    "    test_user,\n",
    "    user_item_matrix_values,\n",
    "    user_ids,\n",
    "    movie_ids,\n",
    "    item_similarity_dense,\n",
    "    top_k_neighbors,\n",
    "    movies,\n",
    "    10,\n",
    ")\n",
    "print(\"Collaborative Filtering Recommendations:\")\n",
    "print(cf_recommendations)"
   ]
  },
  {
   "cell_type": "markdown",
   "id": "c891f263",
   "metadata": {},
   "source": [
    "## Implementação de Filtragem Baseada em Conteúdo\n",
    "\n",
    "### Fundamentação Teórica (Capítulo 10, Falk)\n",
    "\n",
    "A filtragem baseada em conteúdo recomenda itens semelhantes aos que o usuário gostou,\n",
    "com base nas características dos itens. O Capítulo 10 aborda a abordagem completa baseada em conteúdo:\n",
    "\n",
    "1. **Extração de Características**: Extrai características dos metadados do item (gêneros, tags, descrições)\n",
    "2. **TF-IDF (Frequência de Termos - Frequência Inversa do Documento)**: Pondera os termos por importância\n",
    "- **TF**: Com que frequência um termo aparece em um documento (importância local)\n",
    "- **IDF**: Quão raro o termo é em todos os documentos (importância global)\n",
    "- Fórmula: $\\text{TF-IDF}(t,d) = \\text{TF}(t,d) \\times \\log\\frac{N}{\\text{DF}(t)}$\n",
    "\n",
    "3. **Modelo de Espaço Vetorial**: Cada item é um vetor em um espaço de características de alta dimensão\n",
    "4. **Similaridade de Cossenos**: Mede a similaridade entre vetores de características\n",
    "\n",
    "**Vantagens** (Capítulo 10):\n",
    "- Sem problemas de inicialização a frio para itens com metadados\n",
    "- Recomendações transparentes (explicáveis ​​por características)\n",
    "- Independência do usuário (não precisa de outros usuários dados)\n",
    "\n",
    "**Desafios** (Capítulo 10):\n",
    "- Serendipidade limitada (superespecialização)\n",
    "- Requer metadados de itens ricos e de alta qualidade\n",
    "- A engenharia de recursos é específica do domínio"
   ]
  },
  {
   "cell_type": "markdown",
   "id": "6491ad69",
   "metadata": {},
   "source": [
    "### Agregação de Tags por Filme\n",
    "\n",
    "Múltiplos usuários podem atribuir múltiplas tags ao mesmo filme, gerando várias linhas\n",
    "por filme no dataset de tags. Agregamos todas as tags de cada filme em uma única string\n",
    "para facilitar a vetorização TF-IDF."
   ]
  },
  {
   "cell_type": "code",
   "execution_count": null,
   "id": "b91ebaf3",
   "metadata": {},
   "outputs": [],
   "source": [
    "movie_tags = tags.group_by(\"movieId\").agg(\n",
    "    pl.col(\"tag\").str.to_lowercase().str.join(\" \").alias(\"tags\")\n",
    ")"
   ]
  },
  {
   "cell_type": "code",
   "execution_count": null,
   "id": "2a922539",
   "metadata": {},
   "outputs": [],
   "source": [
    "movie_tags.head()"
   ]
  },
  {
   "cell_type": "markdown",
   "id": "5c8bc0aa",
   "metadata": {},
   "source": [
    "### Construção do Dataset de Conteúdo\n",
    "\n",
    "Combinamos todas as features de conteúdo (gêneros + tags) em um único campo `content`\n",
    "que representa o \"documento\" de cada filme. Este documento será vetorizado para\n",
    "calcular similaridades baseadas em conteúdo."
   ]
  },
  {
   "cell_type": "code",
   "execution_count": null,
   "id": "259e002f",
   "metadata": {},
   "outputs": [],
   "source": [
    "movies_content = movies.join(movie_tags, on=\"movieId\", how=\"left\")\n",
    "movies_content = movies_content.with_columns(pl.col(\"tags\").fill_null(\"\"))\n",
    "movies_content.head()"
   ]
  },
  {
   "cell_type": "code",
   "execution_count": null,
   "id": "13f72ce1",
   "metadata": {},
   "outputs": [],
   "source": [
    "movies_content = movies_content.with_columns(\n",
    "    pl.concat_str([pl.col(\"genres\"), pl.col(\"tags\")]).alias(\"content\")\n",
    ")\n",
    "\n",
    "movies_content = movies_content.sort(\"movieId\")"
   ]
  },
  {
   "cell_type": "markdown",
   "id": "0be3022a",
   "metadata": {},
   "source": [
    "### Limpeza e Normalização de Texto\n",
    "\n",
    "Aplicamos as funções de limpeza definidas anteriormente para:\n",
    "- Remover acentos\n",
    "- Converter para minúsculas\n",
    "- Filtrar stopwords\n",
    "\n",
    "Isso melhora a qualidade da vetorização TF-IDF ao focar em termos informativos."
   ]
  },
  {
   "cell_type": "code",
   "execution_count": null,
   "id": "90578963",
   "metadata": {},
   "outputs": [],
   "source": [
    "movies_content = movies_content.with_columns(\n",
    "    pl.col(\"content\").map_elements(clean_text, return_dtype=pl.String).alias(\"content\")\n",
    ")"
   ]
  },
  {
   "cell_type": "code",
   "execution_count": null,
   "id": "bfef3d53",
   "metadata": {},
   "outputs": [],
   "source": [
    "movies_content.head()"
   ]
  },
  {
   "cell_type": "markdown",
   "id": "e185ec0f",
   "metadata": {},
   "source": [
    "### Vetorização TF-IDF\n",
    "\n",
    "Transformamos os documentos de texto em vetores numéricos usando TF-IDF:\n",
    "- **Unigramas e bigramas** (n-grams 1-2): Captura termos individuais e pares de termos consecutivos\n",
    "- **Stopwords removidas**: Foco em termos semanticamente relevantes\n",
    "- **Matriz esparsa resultante**: Cada filme é um vetor de pesos TF-IDF"
   ]
  },
  {
   "cell_type": "code",
   "execution_count": null,
   "id": "f7631cd8",
   "metadata": {},
   "outputs": [],
   "source": [
    "from sklearn.feature_extraction.text import TfidfVectorizer\n",
    "\n",
    "tfidf = TfidfVectorizer(\n",
    "    max_features=None,  # Limit features for efficiency\n",
    "    stop_words=\"english\",  # Remove common English words\n",
    "    ngram_range=(1, 2),  # Use unigrams and bigrams\n",
    ")\n",
    "tfidf_matrix = tfidf.fit_transform(movies_content[\"content\"])"
   ]
  },
  {
   "cell_type": "markdown",
   "id": "648b2167",
   "metadata": {},
   "source": [
    "### Cálculo da Similaridade de Conteúdo\n",
    "\n",
    "Computamos similaridade cosseno entre os vetores TF-IDF de todos os filmes.\n",
    "Filmes com vocabulário similar (gêneros e tags parecidas) terão alta similaridade,\n",
    "independentemente das avaliações dos usuários."
   ]
  },
  {
   "cell_type": "code",
   "execution_count": null,
   "id": "994394da",
   "metadata": {
    "lines_to_next_cell": 1
   },
   "outputs": [],
   "source": [
    "content_similarity = cosine_similarity(tfidf_matrix)"
   ]
  },
  {
   "cell_type": "markdown",
   "id": "3e280648",
   "metadata": {},
   "source": [
    "### Funções de Busca e Recomendação Baseada em Conteúdo\n",
    "\n",
    "**get_similar_movies**: Encontra filmes similares a um filme específico baseado apenas em conteúdo.\n",
    "\n",
    "**recommend_content**: Gera recomendações para um usuário:\n",
    "1. Identifica filmes bem avaliados pelo usuário (rating ≥ threshold)\n",
    "2. Para cada filme bem avaliado, encontra filmes similares por conteúdo\n",
    "3. Agrega scores de similaridade ponderados pelo rating do usuário\n",
    "4. Filtra filmes já vistos\n",
    "5. Retorna top-N por score agregado"
   ]
  },
  {
   "cell_type": "code",
   "execution_count": null,
   "id": "d11c325f",
   "metadata": {
    "lines_to_next_cell": 1
   },
   "outputs": [],
   "source": [
    "def get_similar_movies(movie_id, movies_content, content_similarity, top_n=10):\n",
    "    \"\"\"\n",
    "    Encontra filmes mais similares a um dado filme baseado em conteúdo.\n",
    "    \n",
    "    Útil para explorar a qualidade da matriz de similaridade de conteúdo\n",
    "    e entender quais features (gêneros/tags) estão dirigindo as recomendações.\n",
    "    \"\"\"\n",
    "    # Find the index of the movie\n",
    "    movie_indices = np.where(movies_content[\"movieId\"].to_numpy() == movie_id)[0]\n",
    "\n",
    "    if len(movie_indices) == 0:\n",
    "        return pl.DataFrame()\n",
    "\n",
    "    movie_idx = movie_indices[0]\n",
    "\n",
    "    # Get similarity scores for this movie\n",
    "    similarity_scores = content_similarity[movie_idx]\n",
    "\n",
    "    # Get indices of most similar movies (excluding self)\n",
    "    similar_indices = np.argsort(similarity_scores)[::-1][1 : top_n + 1]\n",
    "\n",
    "    # Create DataFrame with results\n",
    "    similar_movies = (\n",
    "        movies_content[similar_indices]\n",
    "        .select([\"movieId\", \"title\", \"genres\"])\n",
    "        .with_columns(pl.Series(\"similarity\", similarity_scores[similar_indices]))\n",
    "    )\n",
    "\n",
    "    return similar_movies\n",
    "\n",
    "\n",
    "def recommend_content(\n",
    "    user_id, ratings, movies_content, content_similarity, top_n=10, min_rating=4.0\n",
    "):\n",
    "    \"\"\"\n",
    "    Gera top-n recomendações usando filtragem baseada em conteúdo.\n",
    "\n",
    "    Algoritmo do Capítulo 10 (Content-Based Filtering):\n",
    "    1. Constrói perfil do usuário a partir de itens bem avaliados (>= min_rating)\n",
    "    2. Para cada item no perfil, encontra itens similares usando features de conteúdo\n",
    "    3. Agrega scores de similaridade (ponderados pelo rating do usuário)\n",
    "    4. Filtra itens já vistos\n",
    "    5. Retorna top-n por similaridade de conteúdo agregada\n",
    "    \"\"\"\n",
    "    # Get user's highly rated movies\n",
    "    liked_movies = ratings.filter(\n",
    "        (pl.col(\"userId\") == user_id) & (pl.col(\"rating\") >= min_rating)\n",
    "    )\n",
    "\n",
    "    if liked_movies.height == 0:\n",
    "        print(f\"User {user_id} has no highly rated movies (>= {min_rating})\")\n",
    "        return pl.DataFrame()\n",
    "\n",
    "    print(f\"User {user_id} has {liked_movies.height} highly rated movies\")\n",
    "    print(f\"Finding content-based recommendations...\")\n",
    "\n",
    "    # Get all movies user has seen\n",
    "    user_rated = ratings.filter(pl.col(\"userId\") == user_id)\n",
    "    seen_movie_ids = set(user_rated[\"movieId\"].to_list())\n",
    "\n",
    "    # Build aggregated similarity scores\n",
    "    movie_ids_array = movies_content[\"movieId\"].to_numpy()\n",
    "    aggregated_scores = {}\n",
    "\n",
    "    for row in liked_movies.iter_rows(named=True):\n",
    "        movie_id = row[\"movieId\"]\n",
    "        user_rating = row[\"rating\"]\n",
    "\n",
    "        # Find index in content similarity matrix\n",
    "        movie_indices = np.where(movie_ids_array == movie_id)[0]\n",
    "\n",
    "        if len(movie_indices) == 0:\n",
    "            continue\n",
    "\n",
    "        movie_idx = movie_indices[0]\n",
    "\n",
    "        # Get similarities and weight by user's rating\n",
    "        similarities = content_similarity[movie_idx]\n",
    "        weight = user_rating / 5.0\n",
    "\n",
    "        # Accumulate weighted scores for all movies\n",
    "        for i, sim_score in enumerate(similarities):\n",
    "            candidate_movie_id = movie_ids_array[i]\n",
    "\n",
    "            # Skip the movie itself\n",
    "            if candidate_movie_id == movie_id:\n",
    "                continue\n",
    "\n",
    "            weighted_score = sim_score * weight\n",
    "\n",
    "            if candidate_movie_id in aggregated_scores:\n",
    "                aggregated_scores[candidate_movie_id] += weighted_score\n",
    "            else:\n",
    "                aggregated_scores[candidate_movie_id] = weighted_score\n",
    "\n",
    "    # Filter out seen movies\n",
    "    recommendations = {\n",
    "        movie_id: score\n",
    "        for movie_id, score in aggregated_scores.items()\n",
    "        if movie_id not in seen_movie_ids\n",
    "    }\n",
    "\n",
    "    if len(recommendations) == 0:\n",
    "        print(\"No new recommendations could be generated\")\n",
    "        return pl.DataFrame()\n",
    "\n",
    "    # Convert to DataFrame\n",
    "    recommendations_df = pl.DataFrame(\n",
    "        {\n",
    "            \"movieId\": list(recommendations.keys()),\n",
    "            \"content_score\": list(recommendations.values()),\n",
    "        }\n",
    "    )\n",
    "\n",
    "    # Sort and get top-n\n",
    "    recommendations_df = recommendations_df.sort(\"content_score\", descending=True).head(\n",
    "        top_n\n",
    "    )\n",
    "\n",
    "    # Join with movie details\n",
    "    result = recommendations_df.join(\n",
    "        movies_content.select([\"movieId\", \"title\", \"genres\"]), on=\"movieId\", how=\"left\"\n",
    "    ).select([\"movieId\", \"title\", \"content_score\", \"genres\"])\n",
    "\n",
    "    return result"
   ]
  },
  {
   "cell_type": "markdown",
   "id": "0fb8039f",
   "metadata": {},
   "source": [
    "### Teste de Similaridade de Conteúdo: Toy Story\n",
    "\n",
    "Demonstramos a busca de filmes similares usando apenas características de conteúdo.\n",
    "Esperamos encontrar filmes com gêneros e tags similares a Toy Story (Animation, Children's, Comedy)."
   ]
  },
  {
   "cell_type": "code",
   "execution_count": null,
   "id": "42969538",
   "metadata": {},
   "outputs": [],
   "source": [
    "# Example: Find movies similar to a specific movie\n",
    "toy_story_id = (\n",
    "    movies.filter(pl.col(\"title\").str.contains(\"Toy Story\"))\n",
    "    .select(\"movieId\")\n",
    "    .head(1)\n",
    "    .item()\n",
    ")\n",
    "print(f\"\\nMovies similar to Toy Story (movieId={toy_story_id}):\")\n",
    "similar_to_toy_story = get_similar_movies(\n",
    "    toy_story_id, movies_content, content_similarity, top_n=5\n",
    ")\n",
    "print(similar_to_toy_story)"
   ]
  },
  {
   "cell_type": "markdown",
   "id": "c3e1ae85",
   "metadata": {},
   "source": [
    "### Teste do Sistema de Recomendação Baseada em Conteúdo\n",
    "\n",
    "Geramos recomendações para o mesmo usuário de teste, mas agora usando apenas\n",
    "características de conteúdo. Comparando com CF, podemos observar:\n",
    "- **CF**: Recomenda o que usuários similares gostaram (descoberta social)\n",
    "- **Content-Based**: Recomenda filmes similares aos que o usuário já gostou (consistência temática)"
   ]
  },
  {
   "cell_type": "code",
   "execution_count": null,
   "id": "6612873a",
   "metadata": {},
   "outputs": [],
   "source": [
    "# Test the content-based recommender\n",
    "print(\"\\nContent-Based Recommendations:\")\n",
    "content_recommendations = recommend_content(\n",
    "    test_user, ratings, movies_content, content_similarity, top_n=10\n",
    ")\n",
    "print(content_recommendations)"
   ]
  },
  {
   "cell_type": "markdown",
   "id": "f08f3344",
   "metadata": {},
   "source": [
    "## Conclusão e Próximos Passos\n",
    "\n",
    "### Comparação das Abordagens\n",
    "\n",
    "| Aspecto | Filtragem Colaborativa | Filtragem Baseada em Conteúdo |\n",
    "|---------|------------------------|-------------------------------|\n",
    "| **Fonte de dados** | Interações usuário-item | Metadados dos itens |\n",
    "| **Cold start (novos itens)** | Problemático | Funciona bem com metadados |\n",
    "| **Cold start (novos usuários)** | Problemático | Problemático |\n",
    "| **Serendipidade** | Alta (descobre padrões inesperados) | Baixa (superespecialização) |\n",
    "| **Explicabilidade** | Difícil (\"usuários como você gostaram\") | Fácil (\"similar a X que você gostou\") |\n",
    "| **Escalabilidade** | Desafiadora (matriz cresce rapidamente) | Mais escalável (depende de features) |\n",
    "\n",
    "### Melhorias Possíveis\n",
    "\n",
    "1. **Sistema Híbrido**: Combinar CF e content-based para aproveitar vantagens de ambos\n",
    "2. **Fatoração de Matriz**: Usar SVD ou ALS para redução de dimensionalidade e melhor generalização\n",
    "3. **Deep Learning**: Embeddings neurais para capturar relações complexas\n",
    "4. **Features Adicionais**: Incorporar dados temporais, contextuais, ou de texto livre (reviews)\n",
    "5. **Avaliação Offline**: Implementar métricas como RMSE, precision@k, recall@k, NDCG\n",
    "6. **Diversidade**: Balancear accuracy com diversidade nas recomendações\n",
    "\n",
    "### Referências Teóricas Aplicadas\n",
    "\n",
    "- **Capítulo 8 (Falk)**: Neighborhood-based collaborative filtering implementada com item-based CF\n",
    "- **Capítulo 10 (Falk)**: Content-based filtering implementada com TF-IDF e cosine similarity\n",
    "- **Sparse matrices**: Uso de CSR para eficiência computacional com dados esparsos\n",
    "- **K-nearest neighbors**: Pré-computação de vizinhos para otimização de queries"
   ]
  }
 ],
 "metadata": {
  "jupytext": {
   "cell_metadata_filter": "-all",
   "main_language": "python",
   "notebook_metadata_filter": "-all"
  }
 },
 "nbformat": 4,
 "nbformat_minor": 5
}
