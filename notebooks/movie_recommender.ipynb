{
 "cells": [
  {
   "cell_type": "markdown",
   "id": "4525b3c1",
   "metadata": {},
   "source": [
    "# Sistema de Recomendação de Filmes\n",
    "\n",
    "Este caderno implementa duas abordagens fundamentais de sistemas de recomendação baseadas em\n",
    "\"Sistemas de Recomendação Práticos\" de Kim Falk:\n",
    "\n",
    "1. **Filtragem Colaborativa**: Utiliza interações usuário-item para encontrar usuários ou itens semelhantes\n",
    "2. **Filtragem Baseada em Conteúdo**: Utiliza características do item (gêneros, tags) para recomendar itens semelhantes\n",
    "\n",
    "## Contexto Teórico\n",
    "\n",
    "### Filtragem Colaborativa na Vizinhança (Capítulo 8, Falk)\n",
    "- **CF Baseada no Usuário**: Encontra usuários semelhantes ao usuário-alvo e recomenda os itens que eles gostaram\n",
    "- **CF Baseada no Item**: Encontra itens semelhantes aos que o usuário gostou (nós implementamos isso)\n",
    "- **Métodos de Vizinhança**: Utiliza k-vizinhos mais próximos com base em métricas de similaridade\n",
    "- **Métrica de Similaridade**: A similaridade do cosseno mede o ângulo entre os vetores de classificação\n",
    "\n",
    "### Filtragem Baseada em Conteúdo (Capítulo 10, Falk)\n",
    "- Utiliza metadados de itens (gêneros, tags) para calcular a similaridade dos itens\n",
    "- **TF-IDF**: Frequência de Termos - Frequência Inversa de Documentos pondera os termos por importância em todo o corpus\n",
    "- **Modelo de Espaço Vetorial**: Representa itens como vetores no espaço de características\n",
    "- Recomenda itens semelhantes àqueles que o usuário avaliou positivamente\n"
   ]
  },
  {
   "cell_type": "code",
   "execution_count": 32,
   "id": "5b2a0f40",
   "metadata": {},
   "outputs": [],
   "source": [
    "import re\n",
    "import warnings\n",
    "import unicodedata\n",
    "import kagglehub\n",
    "import polars as pl\n",
    "import numpy as np\n",
    "from pathlib import Path\n",
    "from nltk.corpus import stopwords\n",
    "from sklearn.metrics.pairwise import cosine_similarity\n",
    "from scipy.sparse import csr_matrix\n",
    "\n",
    "warnings.filterwarnings(\"ignore\")\n",
    "\n",
    "# Download latest version\n",
    "path = kagglehub.dataset_download(\"aigamer/movie-lens-dataset\")\n",
    "\n",
    "# tmdb_path = kagglehub.dataset_download(\"asaniczka/tmdb-movies-dataset-2023-930k-movies\")"
   ]
  },
  {
   "cell_type": "markdown",
   "id": "6cd14a59",
   "metadata": {},
   "source": [
    "### Funções Auxiliares\n",
    "\n",
    "Definimos funções utilitárias para:\n",
    "- **Calcular esparsidade**: Mede a proporção de valores zero na matriz\n",
    "- **Remover acentos**: Normaliza texto para processamento\n",
    "- **Limpar texto**: Remove stopwords e normaliza para análise de conteúdo"
   ]
  },
  {
   "cell_type": "code",
   "execution_count": 33,
   "id": "91a38bfb",
   "metadata": {},
   "outputs": [],
   "source": [
    "STOPWORDS = set(stopwords.words(\"english\"))\n",
    "\n",
    "\n",
    "def calculate_sparsity(df: pl.DataFrame) -> float:\n",
    "    \"\"\"Calcula a proporção de valores zero/nulos no DataFrame.\"\"\"\n",
    "    total_elements = df.shape[0] * df.shape[1]\n",
    "\n",
    "    zeros = (\n",
    "        df.fill_null(0)\n",
    "        .select(pl.sum_horizontal(df.fill_null(0) == 0))\n",
    "        .to_series()\n",
    "        .sum()\n",
    "    )\n",
    "\n",
    "    sparsity = zeros / total_elements\n",
    "    return sparsity\n",
    "\n",
    "\n",
    "def remove_accents(text: str) -> str:\n",
    "    \"\"\"\n",
    "    Remove accentuation from a given text.\n",
    "    Uses Unicode normalization to safely strip diacritics.\n",
    "    \"\"\"\n",
    "    return \"\".join(\n",
    "        ch\n",
    "        for ch in unicodedata.normalize(\"NFD\", text)\n",
    "        if unicodedata.category(ch) != \"Mn\"\n",
    "    )\n",
    "\n",
    "\n",
    "def clean_text(text):\n",
    "    \"\"\"Remove acentos, converte para minúsculas e filtra stopwords.\"\"\"\n",
    "    text = remove_accents(text.lower())\n",
    "    tokens = text.split()\n",
    "    filtered = \" \".join([t for t in tokens if t not in STOPWORDS])\n",
    "    return filtered"
   ]
  },
  {
   "cell_type": "markdown",
   "id": "2d7e9bb9",
   "metadata": {},
   "source": [
    "## Carregamento e Exploração dos Dados"
   ]
  },
  {
   "cell_type": "code",
   "execution_count": 34,
   "id": "1dbb7954",
   "metadata": {},
   "outputs": [
    {
     "name": "stdout",
     "output_type": "stream",
     "text": [
      "Movies: 9742, Ratings: 100836, Tags: 3683\n"
     ]
    }
   ],
   "source": [
    "# Load datasets\n",
    "# links = pl.read_csv(Path(path, \"links.csv\"))\n",
    "movies = pl.read_csv(Path(path, \"movies.csv\"))\n",
    "ratings = pl.read_csv(Path(path, \"ratings.csv\"))\n",
    "tags = pl.read_csv(Path(path, \"tags.csv\"))\n",
    "\n",
    "print(f\"Movies: {len(movies)}, Ratings: {len(ratings)}, Tags: {len(tags)}\")"
   ]
  },
  {
   "cell_type": "markdown",
   "id": "bf6749eb",
   "metadata": {},
   "source": [
    "## Dicionário de Dados\n",
    "\n",
    "* `userId`: Identificador único de cada usuário\n",
    "* `movieId`: Identificador único de cada filme\n",
    "* `title`: Título do filme\n",
    "* `rating`: notas de 0 a 5\n",
    "* `genres`: Gênero de cada filme com os seguintes valores possíveis;\n",
    "    * Action\n",
    "    * Adventure\n",
    "    * Animation\n",
    "    * Children's\n",
    "    * Comedy\n",
    "    * Crime\n",
    "    * Documentary\n",
    "    * Drama\n",
    "    * Fantasy\n",
    "    * Film-Noir\n",
    "    * Horror\n",
    "    * Musical\n",
    "    * Mystery\n",
    "    * Romance\n",
    "    * Sci-Fi\n",
    "    * Thriller\n",
    "    * War\n",
    "    * Western\n",
    "    * (no genres listed)\n",
    "* `tag`: Metadados gerados pelos usuários\n",
    "* `timestamp`: Unix timestamp da ação"
   ]
  },
  {
   "cell_type": "code",
   "execution_count": 35,
   "id": "5773f0fb",
   "metadata": {},
   "outputs": [
    {
     "name": "stdout",
     "output_type": "stream",
     "text": [
      "Filmes:\n"
     ]
    },
    {
     "data": {
      "text/html": [
       "<div><style>\n",
       ".dataframe > thead > tr,\n",
       ".dataframe > tbody > tr {\n",
       "  text-align: right;\n",
       "  white-space: pre-wrap;\n",
       "}\n",
       "</style>\n",
       "<small>shape: (5, 3)</small><table border=\"1\" class=\"dataframe\"><thead><tr><th>movieId</th><th>title</th><th>genres</th></tr><tr><td>i64</td><td>str</td><td>str</td></tr></thead><tbody><tr><td>1</td><td>&quot;Toy Story (1995)&quot;</td><td>&quot;Adventure|Animation|Children|C…</td></tr><tr><td>2</td><td>&quot;Jumanji (1995)&quot;</td><td>&quot;Adventure|Children|Fantasy&quot;</td></tr><tr><td>3</td><td>&quot;Grumpier Old Men (1995)&quot;</td><td>&quot;Comedy|Romance&quot;</td></tr><tr><td>4</td><td>&quot;Waiting to Exhale (1995)&quot;</td><td>&quot;Comedy|Drama|Romance&quot;</td></tr><tr><td>5</td><td>&quot;Father of the Bride Part II (1…</td><td>&quot;Comedy&quot;</td></tr></tbody></table></div>"
      ],
      "text/plain": [
       "shape: (5, 3)\n",
       "┌─────────┬─────────────────────────────────┬─────────────────────────────────┐\n",
       "│ movieId ┆ title                           ┆ genres                          │\n",
       "│ ---     ┆ ---                             ┆ ---                             │\n",
       "│ i64     ┆ str                             ┆ str                             │\n",
       "╞═════════╪═════════════════════════════════╪═════════════════════════════════╡\n",
       "│ 1       ┆ Toy Story (1995)                ┆ Adventure|Animation|Children|C… │\n",
       "│ 2       ┆ Jumanji (1995)                  ┆ Adventure|Children|Fantasy      │\n",
       "│ 3       ┆ Grumpier Old Men (1995)         ┆ Comedy|Romance                  │\n",
       "│ 4       ┆ Waiting to Exhale (1995)        ┆ Comedy|Drama|Romance            │\n",
       "│ 5       ┆ Father of the Bride Part II (1… ┆ Comedy                          │\n",
       "└─────────┴─────────────────────────────────┴─────────────────────────────────┘"
      ]
     },
     "metadata": {},
     "output_type": "display_data"
    },
    {
     "name": "stdout",
     "output_type": "stream",
     "text": [
      "\n",
      "Avaliações:\n"
     ]
    },
    {
     "data": {
      "text/html": [
       "<div><style>\n",
       ".dataframe > thead > tr,\n",
       ".dataframe > tbody > tr {\n",
       "  text-align: right;\n",
       "  white-space: pre-wrap;\n",
       "}\n",
       "</style>\n",
       "<small>shape: (5, 4)</small><table border=\"1\" class=\"dataframe\"><thead><tr><th>userId</th><th>movieId</th><th>rating</th><th>timestamp</th></tr><tr><td>i64</td><td>i64</td><td>f64</td><td>i64</td></tr></thead><tbody><tr><td>1</td><td>1</td><td>4.0</td><td>964982703</td></tr><tr><td>1</td><td>3</td><td>4.0</td><td>964981247</td></tr><tr><td>1</td><td>6</td><td>4.0</td><td>964982224</td></tr><tr><td>1</td><td>47</td><td>5.0</td><td>964983815</td></tr><tr><td>1</td><td>50</td><td>5.0</td><td>964982931</td></tr></tbody></table></div>"
      ],
      "text/plain": [
       "shape: (5, 4)\n",
       "┌────────┬─────────┬────────┬───────────┐\n",
       "│ userId ┆ movieId ┆ rating ┆ timestamp │\n",
       "│ ---    ┆ ---     ┆ ---    ┆ ---       │\n",
       "│ i64    ┆ i64     ┆ f64    ┆ i64       │\n",
       "╞════════╪═════════╪════════╪═══════════╡\n",
       "│ 1      ┆ 1       ┆ 4.0    ┆ 964982703 │\n",
       "│ 1      ┆ 3       ┆ 4.0    ┆ 964981247 │\n",
       "│ 1      ┆ 6       ┆ 4.0    ┆ 964982224 │\n",
       "│ 1      ┆ 47      ┆ 5.0    ┆ 964983815 │\n",
       "│ 1      ┆ 50      ┆ 5.0    ┆ 964982931 │\n",
       "└────────┴─────────┴────────┴───────────┘"
      ]
     },
     "metadata": {},
     "output_type": "display_data"
    },
    {
     "name": "stdout",
     "output_type": "stream",
     "text": [
      "\n",
      "Tags:\n"
     ]
    },
    {
     "data": {
      "text/html": [
       "<div><style>\n",
       ".dataframe > thead > tr,\n",
       ".dataframe > tbody > tr {\n",
       "  text-align: right;\n",
       "  white-space: pre-wrap;\n",
       "}\n",
       "</style>\n",
       "<small>shape: (5, 4)</small><table border=\"1\" class=\"dataframe\"><thead><tr><th>userId</th><th>movieId</th><th>tag</th><th>timestamp</th></tr><tr><td>i64</td><td>i64</td><td>str</td><td>i64</td></tr></thead><tbody><tr><td>2</td><td>60756</td><td>&quot;funny&quot;</td><td>1445714994</td></tr><tr><td>2</td><td>60756</td><td>&quot;Highly quotable&quot;</td><td>1445714996</td></tr><tr><td>2</td><td>60756</td><td>&quot;will ferrell&quot;</td><td>1445714992</td></tr><tr><td>2</td><td>89774</td><td>&quot;Boxing story&quot;</td><td>1445715207</td></tr><tr><td>2</td><td>89774</td><td>&quot;MMA&quot;</td><td>1445715200</td></tr></tbody></table></div>"
      ],
      "text/plain": [
       "shape: (5, 4)\n",
       "┌────────┬─────────┬─────────────────┬────────────┐\n",
       "│ userId ┆ movieId ┆ tag             ┆ timestamp  │\n",
       "│ ---    ┆ ---     ┆ ---             ┆ ---        │\n",
       "│ i64    ┆ i64     ┆ str             ┆ i64        │\n",
       "╞════════╪═════════╪═════════════════╪════════════╡\n",
       "│ 2      ┆ 60756   ┆ funny           ┆ 1445714994 │\n",
       "│ 2      ┆ 60756   ┆ Highly quotable ┆ 1445714996 │\n",
       "│ 2      ┆ 60756   ┆ will ferrell    ┆ 1445714992 │\n",
       "│ 2      ┆ 89774   ┆ Boxing story    ┆ 1445715207 │\n",
       "│ 2      ┆ 89774   ┆ MMA             ┆ 1445715200 │\n",
       "└────────┴─────────┴─────────────────┴────────────┘"
      ]
     },
     "metadata": {},
     "output_type": "display_data"
    }
   ],
   "source": [
    "print(\"Filmes:\")\n",
    "display(movies.head())\n",
    "print(\"\\nAvaliações:\")\n",
    "display(ratings.head())\n",
    "print(\"\\nTags:\")\n",
    "display(tags.head())"
   ]
  },
  {
   "cell_type": "markdown",
   "id": "8ee52b04",
   "metadata": {},
   "source": [
    "## Pré-processamento\n",
    "\n",
    "Preparamos os dados para ambas as abordagens:\n",
    "1. **Normalizar gêneros**: Substituir separadores `|` por espaços para facilitar vetorização TF-IDF\n",
    "2. **Converter timestamps**: Transformar Unix timestamps em objetos datetime legíveis\n",
    "3. **Criar matriz usuário-item**: Estrutura fundamental para filtragem colaborativa"
   ]
  },
  {
   "cell_type": "code",
   "execution_count": 36,
   "id": "d80aefa8",
   "metadata": {},
   "outputs": [],
   "source": [
    "movies = movies.with_columns(\n",
    "    pl.col(\"genres\")\n",
    "    .str.replace_all(r\"\\|\", \" \")  # replace '|' with space\n",
    "    .alias(\"genres\")\n",
    ")\n",
    "ratings = ratings.with_columns(pl.from_epoch(\"timestamp\", time_unit=\"s\"))\n",
    "tags = tags.with_columns(pl.from_epoch(\"timestamp\", time_unit=\"s\"))"
   ]
  },
  {
   "cell_type": "code",
   "execution_count": 37,
   "id": "1acf0d83",
   "metadata": {},
   "outputs": [
    {
     "data": {
      "text/html": [
       "<div><style>\n",
       ".dataframe > thead > tr,\n",
       ".dataframe > tbody > tr {\n",
       "  text-align: right;\n",
       "  white-space: pre-wrap;\n",
       "}\n",
       "</style>\n",
       "<small>shape: (5, 4)</small><table border=\"1\" class=\"dataframe\"><thead><tr><th>userId</th><th>movieId</th><th>tag</th><th>timestamp</th></tr><tr><td>i64</td><td>i64</td><td>str</td><td>datetime[μs]</td></tr></thead><tbody><tr><td>2</td><td>60756</td><td>&quot;funny&quot;</td><td>2015-10-24 19:29:54</td></tr><tr><td>2</td><td>60756</td><td>&quot;Highly quotable&quot;</td><td>2015-10-24 19:29:56</td></tr><tr><td>2</td><td>60756</td><td>&quot;will ferrell&quot;</td><td>2015-10-24 19:29:52</td></tr><tr><td>2</td><td>89774</td><td>&quot;Boxing story&quot;</td><td>2015-10-24 19:33:27</td></tr><tr><td>2</td><td>89774</td><td>&quot;MMA&quot;</td><td>2015-10-24 19:33:20</td></tr></tbody></table></div>"
      ],
      "text/plain": [
       "shape: (5, 4)\n",
       "┌────────┬─────────┬─────────────────┬─────────────────────┐\n",
       "│ userId ┆ movieId ┆ tag             ┆ timestamp           │\n",
       "│ ---    ┆ ---     ┆ ---             ┆ ---                 │\n",
       "│ i64    ┆ i64     ┆ str             ┆ datetime[μs]        │\n",
       "╞════════╪═════════╪═════════════════╪═════════════════════╡\n",
       "│ 2      ┆ 60756   ┆ funny           ┆ 2015-10-24 19:29:54 │\n",
       "│ 2      ┆ 60756   ┆ Highly quotable ┆ 2015-10-24 19:29:56 │\n",
       "│ 2      ┆ 60756   ┆ will ferrell    ┆ 2015-10-24 19:29:52 │\n",
       "│ 2      ┆ 89774   ┆ Boxing story    ┆ 2015-10-24 19:33:27 │\n",
       "│ 2      ┆ 89774   ┆ MMA             ┆ 2015-10-24 19:33:20 │\n",
       "└────────┴─────────┴─────────────────┴─────────────────────┘"
      ]
     },
     "execution_count": 37,
     "metadata": {},
     "output_type": "execute_result"
    }
   ],
   "source": [
    "tags.head()"
   ]
  },
  {
   "cell_type": "code",
   "execution_count": 38,
   "id": "507067f6",
   "metadata": {
    "lines_to_next_cell": 1
   },
   "outputs": [
    {
     "name": "stdout",
     "output_type": "stream",
     "text": [
      "Pré-processamento completo!\n",
      "Filmes:\n"
     ]
    },
    {
     "data": {
      "text/html": [
       "<div><style>\n",
       ".dataframe > thead > tr,\n",
       ".dataframe > tbody > tr {\n",
       "  text-align: right;\n",
       "  white-space: pre-wrap;\n",
       "}\n",
       "</style>\n",
       "<small>shape: (5, 3)</small><table border=\"1\" class=\"dataframe\"><thead><tr><th>movieId</th><th>title</th><th>genres</th></tr><tr><td>i64</td><td>str</td><td>str</td></tr></thead><tbody><tr><td>1</td><td>&quot;Toy Story (1995)&quot;</td><td>&quot;Adventure Animation Children C…</td></tr><tr><td>2</td><td>&quot;Jumanji (1995)&quot;</td><td>&quot;Adventure Children Fantasy&quot;</td></tr><tr><td>3</td><td>&quot;Grumpier Old Men (1995)&quot;</td><td>&quot;Comedy Romance&quot;</td></tr><tr><td>4</td><td>&quot;Waiting to Exhale (1995)&quot;</td><td>&quot;Comedy Drama Romance&quot;</td></tr><tr><td>5</td><td>&quot;Father of the Bride Part II (1…</td><td>&quot;Comedy&quot;</td></tr></tbody></table></div>"
      ],
      "text/plain": [
       "shape: (5, 3)\n",
       "┌─────────┬─────────────────────────────────┬─────────────────────────────────┐\n",
       "│ movieId ┆ title                           ┆ genres                          │\n",
       "│ ---     ┆ ---                             ┆ ---                             │\n",
       "│ i64     ┆ str                             ┆ str                             │\n",
       "╞═════════╪═════════════════════════════════╪═════════════════════════════════╡\n",
       "│ 1       ┆ Toy Story (1995)                ┆ Adventure Animation Children C… │\n",
       "│ 2       ┆ Jumanji (1995)                  ┆ Adventure Children Fantasy      │\n",
       "│ 3       ┆ Grumpier Old Men (1995)         ┆ Comedy Romance                  │\n",
       "│ 4       ┆ Waiting to Exhale (1995)        ┆ Comedy Drama Romance            │\n",
       "│ 5       ┆ Father of the Bride Part II (1… ┆ Comedy                          │\n",
       "└─────────┴─────────────────────────────────┴─────────────────────────────────┘"
      ]
     },
     "metadata": {},
     "output_type": "display_data"
    },
    {
     "name": "stdout",
     "output_type": "stream",
     "text": [
      "\\Avaliações:\n"
     ]
    },
    {
     "data": {
      "text/html": [
       "<div><style>\n",
       ".dataframe > thead > tr,\n",
       ".dataframe > tbody > tr {\n",
       "  text-align: right;\n",
       "  white-space: pre-wrap;\n",
       "}\n",
       "</style>\n",
       "<small>shape: (5, 4)</small><table border=\"1\" class=\"dataframe\"><thead><tr><th>userId</th><th>movieId</th><th>rating</th><th>timestamp</th></tr><tr><td>i64</td><td>i64</td><td>f64</td><td>datetime[μs]</td></tr></thead><tbody><tr><td>1</td><td>1</td><td>4.0</td><td>2000-07-30 18:45:03</td></tr><tr><td>1</td><td>3</td><td>4.0</td><td>2000-07-30 18:20:47</td></tr><tr><td>1</td><td>6</td><td>4.0</td><td>2000-07-30 18:37:04</td></tr><tr><td>1</td><td>47</td><td>5.0</td><td>2000-07-30 19:03:35</td></tr><tr><td>1</td><td>50</td><td>5.0</td><td>2000-07-30 18:48:51</td></tr></tbody></table></div>"
      ],
      "text/plain": [
       "shape: (5, 4)\n",
       "┌────────┬─────────┬────────┬─────────────────────┐\n",
       "│ userId ┆ movieId ┆ rating ┆ timestamp           │\n",
       "│ ---    ┆ ---     ┆ ---    ┆ ---                 │\n",
       "│ i64    ┆ i64     ┆ f64    ┆ datetime[μs]        │\n",
       "╞════════╪═════════╪════════╪═════════════════════╡\n",
       "│ 1      ┆ 1       ┆ 4.0    ┆ 2000-07-30 18:45:03 │\n",
       "│ 1      ┆ 3       ┆ 4.0    ┆ 2000-07-30 18:20:47 │\n",
       "│ 1      ┆ 6       ┆ 4.0    ┆ 2000-07-30 18:37:04 │\n",
       "│ 1      ┆ 47      ┆ 5.0    ┆ 2000-07-30 19:03:35 │\n",
       "│ 1      ┆ 50      ┆ 5.0    ┆ 2000-07-30 18:48:51 │\n",
       "└────────┴─────────┴────────┴─────────────────────┘"
      ]
     },
     "metadata": {},
     "output_type": "display_data"
    },
    {
     "name": "stdout",
     "output_type": "stream",
     "text": [
      "\n",
      "Tags:\n"
     ]
    },
    {
     "data": {
      "text/html": [
       "<div><style>\n",
       ".dataframe > thead > tr,\n",
       ".dataframe > tbody > tr {\n",
       "  text-align: right;\n",
       "  white-space: pre-wrap;\n",
       "}\n",
       "</style>\n",
       "<small>shape: (5, 4)</small><table border=\"1\" class=\"dataframe\"><thead><tr><th>userId</th><th>movieId</th><th>tag</th><th>timestamp</th></tr><tr><td>i64</td><td>i64</td><td>str</td><td>datetime[μs]</td></tr></thead><tbody><tr><td>2</td><td>60756</td><td>&quot;funny&quot;</td><td>2015-10-24 19:29:54</td></tr><tr><td>2</td><td>60756</td><td>&quot;Highly quotable&quot;</td><td>2015-10-24 19:29:56</td></tr><tr><td>2</td><td>60756</td><td>&quot;will ferrell&quot;</td><td>2015-10-24 19:29:52</td></tr><tr><td>2</td><td>89774</td><td>&quot;Boxing story&quot;</td><td>2015-10-24 19:33:27</td></tr><tr><td>2</td><td>89774</td><td>&quot;MMA&quot;</td><td>2015-10-24 19:33:20</td></tr></tbody></table></div>"
      ],
      "text/plain": [
       "shape: (5, 4)\n",
       "┌────────┬─────────┬─────────────────┬─────────────────────┐\n",
       "│ userId ┆ movieId ┆ tag             ┆ timestamp           │\n",
       "│ ---    ┆ ---     ┆ ---             ┆ ---                 │\n",
       "│ i64    ┆ i64     ┆ str             ┆ datetime[μs]        │\n",
       "╞════════╪═════════╪═════════════════╪═════════════════════╡\n",
       "│ 2      ┆ 60756   ┆ funny           ┆ 2015-10-24 19:29:54 │\n",
       "│ 2      ┆ 60756   ┆ Highly quotable ┆ 2015-10-24 19:29:56 │\n",
       "│ 2      ┆ 60756   ┆ will ferrell    ┆ 2015-10-24 19:29:52 │\n",
       "│ 2      ┆ 89774   ┆ Boxing story    ┆ 2015-10-24 19:33:27 │\n",
       "│ 2      ┆ 89774   ┆ MMA             ┆ 2015-10-24 19:33:20 │\n",
       "└────────┴─────────┴─────────────────┴─────────────────────┘"
      ]
     },
     "metadata": {},
     "output_type": "display_data"
    }
   ],
   "source": [
    "print(\"Pré-processamento completo!\")\n",
    "print(\"Filmes:\")\n",
    "display(movies.head())\n",
    "print(\"\\Avaliações:\")\n",
    "display(ratings.head())\n",
    "print(\"\\nTags:\")\n",
    "display(tags.head())"
   ]
  },
  {
   "cell_type": "markdown",
   "id": "7bbcf46b",
   "metadata": {},
   "source": [
    "## Implementação da Filtragem Colaborativa\n",
    "\n",
    "### Fundamentação Teórica (Capítulo 8, Falk)\n",
    "\n",
    "A filtragem colaborativa pressupõe que os usuários que concordaram no passado concordarão no futuro.\n",
    "O Capítulo 8 aborda **métodos baseados em vizinhança**, que encontram usuários ou itens semelhantes.\n",
    "\n",
    "Implementamos a **filtragem colaborativa baseada em itens** que:\n",
    "\n",
    "1. Calcula a similaridade item-item usando a similaridade de cosseno na matriz usuário-item\n",
    "2. Para um usuário-alvo, identifica os itens que ele avaliou positivamente\n",
    "3. Encontra itens semelhantes que o usuário ainda não viu (a \"vizinhança\")\n",
    "4. Classifica as recomendações pela avaliação prevista\n",
    "\n",
    "**Fórmula de Similaridade de Cosseno**:\n",
    "$\\text{sim}(i, j) = \\frac{\\sum_{u \\in U} r_{u,i} \\cdot r_{u,j}}{\\sqrt{\\sum_{u \\in U} r_{u,i}^2} \\cdot \\sqrt{\\sum_{u \\in U} r_{u,j}^2}}$\n",
    "\n",
    "Onde $r_{u,i}$ é o usuário $u$"
   ]
  },
  {
   "cell_type": "markdown",
   "id": "e537cc80",
   "metadata": {},
   "source": [
    "### Matrix Usuário-Item\n",
    "\n",
    "A matriz usuário-item representa as interações entre usuários e itens. Cada linha corresponde a um usuário, cada coluna corresponde a um item, e cada célula contém um valor numérico que indica o nível de interação do usuário com aquele item, como uma avaliação (rating), quantidade de cliques ou compras.\n",
    "\n",
    "Exemplo:\n",
    "\n",
    "```bash\n",
    "| user_id | item_A | item_B | item_C | item_D |\n",
    "| ------- | ------ | ------ | ------ | ------ |\n",
    "| U1      | 5      | 0      | 3      | 0      |\n",
    "| U2      | 4      | 0      | 0      | 2      |\n",
    "| U3      | 0      | 1      | 0      | 0      |\n",
    "```\n",
    "\n",
    "É a principal representação para filtragem colaborativa (CF), é usado para:\n",
    "* CF baseado em usuário: encontre usuários semelhantes comparando suas linhas.\n",
    "* CF baseado em item: encontre itens semelhantes comparando suas colunas (é isso que seu item_similarity faz).\n",
    "* Fatoração de matriz: use técnicas como SVD, ALS ou NMF para aprender embeddings latentes de usuários/itens."
   ]
  },
  {
   "cell_type": "code",
   "execution_count": 39,
   "id": "4b408951",
   "metadata": {},
   "outputs": [],
   "source": [
    "user_item_matrix = ratings.pivot(\n",
    "    values=\"rating\",\n",
    "    index=\"userId\",\n",
    "    columns=\"movieId\",\n",
    "    aggregate_function=\"max\",\n",
    ")\n",
    "\n",
    "# Store userIs and movieIds\n",
    "user_ids = user_item_matrix.select(\"userId\").to_series().to_numpy()\n",
    "movie_ids = [col for col in user_item_matrix.columns if col != \"userId\"]"
   ]
  },
  {
   "cell_type": "code",
   "execution_count": 40,
   "id": "a7fe5d4c",
   "metadata": {},
   "outputs": [
    {
     "data": {
      "text/html": [
       "<div><style>\n",
       ".dataframe > thead > tr,\n",
       ".dataframe > tbody > tr {\n",
       "  text-align: right;\n",
       "  white-space: pre-wrap;\n",
       "}\n",
       "</style>\n",
       "<small>shape: (5, 9_725)</small><table border=\"1\" class=\"dataframe\"><thead><tr><th>userId</th><th>1</th><th>3</th><th>6</th><th>47</th><th>50</th><th>70</th><th>101</th><th>110</th><th>151</th><th>157</th><th>163</th><th>216</th><th>223</th><th>231</th><th>235</th><th>260</th><th>296</th><th>316</th><th>333</th><th>349</th><th>356</th><th>362</th><th>367</th><th>423</th><th>441</th><th>457</th><th>480</th><th>500</th><th>527</th><th>543</th><th>552</th><th>553</th><th>590</th><th>592</th><th>593</th><th>596</th><th>&hellip;</th><th>114044</th><th>114670</th><th>114707</th><th>115727</th><th>117867</th><th>118082</th><th>128838</th><th>129313</th><th>130050</th><th>130052</th><th>130840</th><th>133832</th><th>135534</th><th>135803</th><th>135815</th><th>138610</th><th>138632</th><th>139511</th><th>139655</th><th>140267</th><th>141400</th><th>141799</th><th>142366</th><th>142598</th><th>145951</th><th>146309</th><th>147657</th><th>147662</th><th>148166</th><th>149011</th><th>152372</th><th>158721</th><th>160341</th><th>160527</th><th>160836</th><th>163937</th><th>163981</th></tr><tr><td>i64</td><td>f64</td><td>f64</td><td>f64</td><td>f64</td><td>f64</td><td>f64</td><td>f64</td><td>f64</td><td>f64</td><td>f64</td><td>f64</td><td>f64</td><td>f64</td><td>f64</td><td>f64</td><td>f64</td><td>f64</td><td>f64</td><td>f64</td><td>f64</td><td>f64</td><td>f64</td><td>f64</td><td>f64</td><td>f64</td><td>f64</td><td>f64</td><td>f64</td><td>f64</td><td>f64</td><td>f64</td><td>f64</td><td>f64</td><td>f64</td><td>f64</td><td>f64</td><td>&hellip;</td><td>f64</td><td>f64</td><td>f64</td><td>f64</td><td>f64</td><td>f64</td><td>f64</td><td>f64</td><td>f64</td><td>f64</td><td>f64</td><td>f64</td><td>f64</td><td>f64</td><td>f64</td><td>f64</td><td>f64</td><td>f64</td><td>f64</td><td>f64</td><td>f64</td><td>f64</td><td>f64</td><td>f64</td><td>f64</td><td>f64</td><td>f64</td><td>f64</td><td>f64</td><td>f64</td><td>f64</td><td>f64</td><td>f64</td><td>f64</td><td>f64</td><td>f64</td><td>f64</td></tr></thead><tbody><tr><td>1</td><td>4.0</td><td>4.0</td><td>4.0</td><td>5.0</td><td>5.0</td><td>3.0</td><td>5.0</td><td>4.0</td><td>5.0</td><td>5.0</td><td>5.0</td><td>5.0</td><td>3.0</td><td>5.0</td><td>4.0</td><td>5.0</td><td>3.0</td><td>3.0</td><td>5.0</td><td>4.0</td><td>4.0</td><td>5.0</td><td>4.0</td><td>3.0</td><td>4.0</td><td>5.0</td><td>4.0</td><td>3.0</td><td>5.0</td><td>4.0</td><td>4.0</td><td>5.0</td><td>4.0</td><td>4.0</td><td>4.0</td><td>5.0</td><td>&hellip;</td><td>null</td><td>null</td><td>null</td><td>null</td><td>null</td><td>null</td><td>null</td><td>null</td><td>null</td><td>null</td><td>null</td><td>null</td><td>null</td><td>null</td><td>null</td><td>null</td><td>null</td><td>null</td><td>null</td><td>null</td><td>null</td><td>null</td><td>null</td><td>null</td><td>null</td><td>null</td><td>null</td><td>null</td><td>null</td><td>null</td><td>null</td><td>null</td><td>null</td><td>null</td><td>null</td><td>null</td><td>null</td></tr><tr><td>2</td><td>null</td><td>null</td><td>null</td><td>null</td><td>null</td><td>null</td><td>null</td><td>null</td><td>null</td><td>null</td><td>null</td><td>null</td><td>null</td><td>null</td><td>null</td><td>null</td><td>null</td><td>null</td><td>4.0</td><td>null</td><td>null</td><td>null</td><td>null</td><td>null</td><td>null</td><td>null</td><td>null</td><td>null</td><td>null</td><td>null</td><td>null</td><td>null</td><td>null</td><td>null</td><td>null</td><td>null</td><td>&hellip;</td><td>null</td><td>null</td><td>null</td><td>null</td><td>null</td><td>null</td><td>null</td><td>null</td><td>null</td><td>null</td><td>null</td><td>null</td><td>null</td><td>null</td><td>null</td><td>null</td><td>null</td><td>null</td><td>null</td><td>null</td><td>null</td><td>null</td><td>null</td><td>null</td><td>null</td><td>null</td><td>null</td><td>null</td><td>null</td><td>null</td><td>null</td><td>null</td><td>null</td><td>null</td><td>null</td><td>null</td><td>null</td></tr><tr><td>3</td><td>null</td><td>null</td><td>null</td><td>null</td><td>null</td><td>null</td><td>null</td><td>null</td><td>null</td><td>null</td><td>null</td><td>null</td><td>null</td><td>null</td><td>null</td><td>null</td><td>null</td><td>null</td><td>null</td><td>null</td><td>null</td><td>null</td><td>null</td><td>null</td><td>null</td><td>null</td><td>null</td><td>null</td><td>0.5</td><td>null</td><td>null</td><td>null</td><td>null</td><td>null</td><td>null</td><td>null</td><td>&hellip;</td><td>null</td><td>null</td><td>null</td><td>null</td><td>null</td><td>null</td><td>null</td><td>null</td><td>null</td><td>null</td><td>null</td><td>null</td><td>null</td><td>null</td><td>null</td><td>null</td><td>null</td><td>null</td><td>null</td><td>null</td><td>null</td><td>null</td><td>null</td><td>null</td><td>null</td><td>null</td><td>null</td><td>null</td><td>null</td><td>null</td><td>null</td><td>null</td><td>null</td><td>null</td><td>null</td><td>null</td><td>null</td></tr><tr><td>4</td><td>null</td><td>null</td><td>null</td><td>2.0</td><td>null</td><td>null</td><td>null</td><td>null</td><td>null</td><td>null</td><td>null</td><td>null</td><td>null</td><td>null</td><td>2.0</td><td>5.0</td><td>1.0</td><td>null</td><td>null</td><td>null</td><td>null</td><td>null</td><td>null</td><td>null</td><td>1.0</td><td>5.0</td><td>null</td><td>null</td><td>null</td><td>null</td><td>null</td><td>2.0</td><td>null</td><td>null</td><td>5.0</td><td>null</td><td>&hellip;</td><td>null</td><td>null</td><td>null</td><td>null</td><td>null</td><td>null</td><td>null</td><td>null</td><td>null</td><td>null</td><td>null</td><td>null</td><td>null</td><td>null</td><td>null</td><td>null</td><td>null</td><td>null</td><td>null</td><td>null</td><td>null</td><td>null</td><td>null</td><td>null</td><td>null</td><td>null</td><td>null</td><td>null</td><td>null</td><td>null</td><td>null</td><td>null</td><td>null</td><td>null</td><td>null</td><td>null</td><td>null</td></tr><tr><td>5</td><td>4.0</td><td>null</td><td>null</td><td>null</td><td>4.0</td><td>null</td><td>null</td><td>4.0</td><td>null</td><td>null</td><td>null</td><td>null</td><td>null</td><td>null</td><td>null</td><td>null</td><td>5.0</td><td>2.0</td><td>null</td><td>3.0</td><td>null</td><td>null</td><td>4.0</td><td>null</td><td>null</td><td>4.0</td><td>null</td><td>null</td><td>5.0</td><td>null</td><td>null</td><td>null</td><td>5.0</td><td>3.0</td><td>null</td><td>5.0</td><td>&hellip;</td><td>null</td><td>null</td><td>null</td><td>null</td><td>null</td><td>null</td><td>null</td><td>null</td><td>null</td><td>null</td><td>null</td><td>null</td><td>null</td><td>null</td><td>null</td><td>null</td><td>null</td><td>null</td><td>null</td><td>null</td><td>null</td><td>null</td><td>null</td><td>null</td><td>null</td><td>null</td><td>null</td><td>null</td><td>null</td><td>null</td><td>null</td><td>null</td><td>null</td><td>null</td><td>null</td><td>null</td><td>null</td></tr></tbody></table></div>"
      ],
      "text/plain": [
       "shape: (5, 9_725)\n",
       "┌────────┬──────┬──────┬──────┬───┬────────┬────────┬────────┬────────┐\n",
       "│ userId ┆ 1    ┆ 3    ┆ 6    ┆ … ┆ 160527 ┆ 160836 ┆ 163937 ┆ 163981 │\n",
       "│ ---    ┆ ---  ┆ ---  ┆ ---  ┆   ┆ ---    ┆ ---    ┆ ---    ┆ ---    │\n",
       "│ i64    ┆ f64  ┆ f64  ┆ f64  ┆   ┆ f64    ┆ f64    ┆ f64    ┆ f64    │\n",
       "╞════════╪══════╪══════╪══════╪═══╪════════╪════════╪════════╪════════╡\n",
       "│ 1      ┆ 4.0  ┆ 4.0  ┆ 4.0  ┆ … ┆ null   ┆ null   ┆ null   ┆ null   │\n",
       "│ 2      ┆ null ┆ null ┆ null ┆ … ┆ null   ┆ null   ┆ null   ┆ null   │\n",
       "│ 3      ┆ null ┆ null ┆ null ┆ … ┆ null   ┆ null   ┆ null   ┆ null   │\n",
       "│ 4      ┆ null ┆ null ┆ null ┆ … ┆ null   ┆ null   ┆ null   ┆ null   │\n",
       "│ 5      ┆ 4.0  ┆ null ┆ null ┆ … ┆ null   ┆ null   ┆ null   ┆ null   │\n",
       "└────────┴──────┴──────┴──────┴───┴────────┴────────┴────────┴────────┘"
      ]
     },
     "execution_count": 40,
     "metadata": {},
     "output_type": "execute_result"
    }
   ],
   "source": [
    "user_item_matrix.head()"
   ]
  },
  {
   "cell_type": "markdown",
   "id": "963f0d60",
   "metadata": {},
   "source": [
    "### Análise de Esparsidade\n",
    "\n",
    "Nossa matriz usuário-item tem dimensões (611 × 9,725) e consome 45MB. \n",
    "Este tamanho é gerenciável, mas em sistemas reais com milhões de usuários e itens,\n",
    "a representação densa seria inviável."
   ]
  },
  {
   "cell_type": "code",
   "execution_count": 41,
   "id": "f561a722",
   "metadata": {},
   "outputs": [
    {
     "name": "stdout",
     "output_type": "stream",
     "text": [
      "Estimated memory usage: 45.97 MB\n"
     ]
    }
   ],
   "source": [
    "# Estimated memory usage in bytes\n",
    "memory_bytes = user_item_matrix.estimated_size()\n",
    "print(f\"Estimated memory usage: {memory_bytes / (1024**2):.2f} MB\")"
   ]
  },
  {
   "cell_type": "markdown",
   "id": "56b25c34",
   "metadata": {},
   "source": [
    "A matriz apresenta ~98% de esparsidade, típico em sistemas de recomendação onde\n",
    "a maioria dos usuários interage com apenas uma pequena fração dos itens disponíveis.\n",
    "Isso justifica o uso de representações esparsas para eficiência computacional e de memória."
   ]
  },
  {
   "cell_type": "code",
   "execution_count": 42,
   "id": "30645219",
   "metadata": {},
   "outputs": [
    {
     "name": "stdout",
     "output_type": "stream",
     "text": [
      "Sparsity: 98.29%\n"
     ]
    }
   ],
   "source": [
    "sparsity = calculate_sparsity(user_item_matrix)\n",
    "print(f\"Sparsity: {sparsity:.2%}\")"
   ]
  },
  {
   "cell_type": "markdown",
   "id": "9389b72d",
   "metadata": {},
   "source": [
    "### Distribuição de Avaliações por Usuário\n",
    "\n",
    "Analisamos quantos filmes cada usuário avaliou para entender o padrão de engajamento.\n",
    "A mediana e moda revelam que a maioria dos usuários avalia poucos filmes em relação\n",
    "ao catálogo total de 9.742 filmes disponíveis."
   ]
  },
  {
   "cell_type": "code",
   "execution_count": 43,
   "id": "11916c85",
   "metadata": {},
   "outputs": [
    {
     "name": "stdout",
     "output_type": "stream",
     "text": [
      "Até 50% dos usuários avaliam 70 filmes ou menos.\n",
      "O número mais comum de avaliações por usuário é 21.\n"
     ]
    }
   ],
   "source": [
    "ratings_per_user = ratings.group_by(\"userId\").agg(\n",
    "    pl.count(\"movieId\").alias(\"num_ratings\")\n",
    ")\n",
    "\n",
    "median_ratings = ratings_per_user.select(pl.col(\"num_ratings\").median()).item()\n",
    "mode_ratings = ratings_per_user.select(pl.col(\"num_ratings\").mode()).item()\n",
    "\n",
    "print(\n",
    "    f\"Até 50% dos usuários avaliam {median_ratings:.0f} filmes ou menos.\\n\"\n",
    "    f\"O número mais comum de avaliações por usuário é {mode_ratings}.\"\n",
    ")"
   ]
  },
  {
   "cell_type": "markdown",
   "id": "b4c0abd0",
   "metadata": {},
   "source": [
    "### Conversão para Matriz Esparsa\n",
    "\n",
    "Convertemos para formato CSR (Compressed Sparse Row) do SciPy, que:\n",
    "- **Armazena apenas valores não-zero** e suas posições\n",
    "- **Reduz drasticamente o uso de memória**\n",
    "- **Acelera operações matriciais** quando a matriz é esparsa\n",
    "- É a estrutura ideal para cálculo de similaridade em matrizes esparsas"
   ]
  },
  {
   "cell_type": "code",
   "execution_count": 44,
   "id": "d39ae884",
   "metadata": {},
   "outputs": [],
   "source": [
    "from scipy.sparse import csr_matrix\n",
    "\n",
    "user_item_matrix_values = user_item_matrix.select(movie_ids).fill_null(0).to_numpy()\n",
    "user_item_matrix_crs = csr_matrix(user_item_matrix_values.T)"
   ]
  },
  {
   "cell_type": "code",
   "execution_count": 45,
   "id": "58b0d206",
   "metadata": {},
   "outputs": [
    {
     "data": {
      "text/plain": [
       "<Compressed Sparse Row sparse matrix of dtype 'float64'\n",
       "\twith 100836 stored elements and shape (9724, 610)>"
      ]
     },
     "execution_count": 45,
     "metadata": {},
     "output_type": "execute_result"
    }
   ],
   "source": [
    "user_item_matrix_crs"
   ]
  },
  {
   "cell_type": "markdown",
   "id": "e7415ed6",
   "metadata": {},
   "source": [
    "### Cálculo da Similaridade Item-Item\n",
    "\n",
    "Computamos a matriz de similaridade cosseno entre todos os pares de filmes.\n",
    "Cada célula $(i, j)$ representa quão similares são os filmes $i$ e $j$ baseado\n",
    "nos padrões de avaliação dos usuários.\n",
    "\n",
    "**Intuição**: Filmes com vetores de avaliação similares (avaliados de forma parecida\n",
    "pelos mesmos usuários) terão alta similaridade cosseno.\n",
    "\n",
    "$$\n",
    "\\text{similarity}(i, j) = \\frac{\\mathbf{v}_i \\cdot \\mathbf{v}_j}{\\|\\mathbf{v}_i\\| \\, \\|\\mathbf{v}_j\\|}\n",
    "$$\n",
    "\n",
    "onde $\\mathbf{v}_i$ e $\\mathbf{v}_j$ são os vetores de avaliação dos itens $i$ e $j$.\n",
    "\n",
    "Exemplo:\n",
    "\n",
    "Para a matrix de Usuário-Item:\n",
    "\n",
    "```bash\n",
    "| user_id | item_A | item_B | item_C | item_D |\n",
    "| ------- | ------ | ------ | ------ | ------ |\n",
    "| U1      | 5      | 0      | 3      | 0      |\n",
    "| U2      | 4      | 0      | 0      | 2      |\n",
    "| U3      | 0      | 1      | 0      | 0      |\n",
    "```\n",
    "\n",
    "Então os vetores são:\n",
    "\n",
    "```python\n",
    "item_A = [5, 4, 0]\n",
    "item_B = [0, 0, 1]    \n",
    "item_C = [3, 0, 0]  \n",
    "item_D = [0, 2, 0] \n",
    "```\n",
    "\n",
    "E a matrix de similaridade Item-Item:\n",
    "\n",
    "cosine_similarity([item_A, item_B, item_C, item_D]):\n",
    "```bash\n",
    "| item_id | item_A | item_B | item_C | item_D |\n",
    "| ------- | ------ | ------ | ------ | ------ |\n",
    "| item_A  | 1      | 0      | 0.78   | 0.62   |\n",
    "| item_B  | 0      | 1      | 0      | 0      |\n",
    "| item_C  | 0.78   | 0      | 1      | 0      |\n",
    "| item_D  | 0.62   | 0      | 0      | 1      |\n",
    "```"
   ]
  },
  {
   "cell_type": "code",
   "execution_count": 46,
   "id": "af505aba",
   "metadata": {},
   "outputs": [],
   "source": [
    "item_similarity = cosine_similarity(user_item_matrix_crs, dense_output=False)"
   ]
  },
  {
   "cell_type": "markdown",
   "id": "c23d0fba",
   "metadata": {},
   "source": [
    "### Pré-computação dos K-Vizinhos Mais Próximos\n",
    "\n",
    "Para eficiência em tempo de execução, pré-computamos os top-K vizinhos mais similares\n",
    "para cada filme. Isso evita percorrer toda a matriz de similaridade durante a predição,\n",
    "reduzindo a complexidade de O(n) para O(k) onde k << n."
   ]
  },
  {
   "cell_type": "code",
   "execution_count": 47,
   "id": "ff9eb46c",
   "metadata": {},
   "outputs": [],
   "source": [
    "item_similarity_dense = item_similarity.toarray()\n",
    "\n",
    "# Precompute top-K neighbors for each item\n",
    "k_neighbors = 20\n",
    "top_k_neighbors = {}\n",
    "\n",
    "for i, movie_id in enumerate(movie_ids):\n",
    "    # Get similarities for this movie\n",
    "    sims = item_similarity_dense[i]\n",
    "    # Get indices of top-k items (excluding self)\n",
    "    top_indices = np.argsort(sims)[-k_neighbors:][::-1]\n",
    "    top_k_neighbors[movie_id] = [movie_ids[idx] for idx in top_indices]"
   ]
  },
  {
   "cell_type": "markdown",
   "id": "6d893fee",
   "metadata": {},
   "source": [
    "### Funções de Predição e Recomendação\n",
    "\n",
    "**Predição de Rating**: Estima a avaliação de um usuário para um filme não-visto\n",
    "usando média ponderada das avaliações dos filmes similares que o usuário já avaliou.\n",
    "\n",
    "**Algoritmo de Recomendação**:\n",
    "1. Identifica filmes não-vistos pelo usuário\n",
    "2. Prediz rating para cada filme não-visto\n",
    "3. Ordena por rating predito decrescente\n",
    "4. Retorna top-N recomendações"
   ]
  },
  {
   "cell_type": "code",
   "execution_count": 48,
   "id": "febdcbfa",
   "metadata": {},
   "outputs": [],
   "source": [
    "def predict_rating(\n",
    "    user_id,\n",
    "    movie_id,\n",
    "    user_item_values,\n",
    "    user_ids,\n",
    "    movie_ids,\n",
    "    item_similarity_dense,\n",
    "    top_k_neighbors,\n",
    "):\n",
    "    \"\"\"\n",
    "    Prediz o rating que um usuário daria a um filme usando CF baseada em itens.\n",
    "\n",
    "    Fórmula: r̂(u,i) = Σ(sim(i,j) × r(u,j)) / Σ(sim(i,j))\n",
    "    onde j são os vizinhos de i que u avaliou.\n",
    "    \"\"\"\n",
    "    # Find user index\n",
    "    user_idx = np.where(user_ids == user_id)[0]\n",
    "    if len(user_idx) == 0 or movie_id not in movie_ids:\n",
    "        return 0.0\n",
    "\n",
    "    user_idx = user_idx[0]\n",
    "    movie_idx = movie_ids.index(movie_id)\n",
    "\n",
    "    # Get user's ratings\n",
    "    user_ratings = user_item_values[user_idx]\n",
    "\n",
    "    # Get neighbors that user has rated\n",
    "    neighbors = top_k_neighbors[movie_id]\n",
    "    neighbor_indices = [\n",
    "        i for i, mid in enumerate(movie_ids) if mid in neighbors and user_ratings[i] > 0\n",
    "    ]\n",
    "\n",
    "    if not neighbor_indices:\n",
    "        return 0.0\n",
    "\n",
    "    # Get similarities and ratings for neighbors\n",
    "    similarities = item_similarity_dense[movie_idx, neighbor_indices]\n",
    "    neighbor_ratings = user_ratings[neighbor_indices]\n",
    "\n",
    "    weighted_sum = np.sum(similarities * neighbor_ratings)\n",
    "    similarity_sum = np.sum(similarities)\n",
    "\n",
    "    return float(weighted_sum / similarity_sum) if similarity_sum > 0 else 0.0\n",
    "\n",
    "\n",
    "def recommend_cf(\n",
    "    user_id,\n",
    "    user_item_values,\n",
    "    user_ids,\n",
    "    movie_ids,\n",
    "    item_similarity_dense,\n",
    "    top_k_neighbors,\n",
    "    movies,\n",
    "    top_n=10,\n",
    "):\n",
    "    \"\"\"Gera top-N recomendações de filmes para um usuário usando CF baseada em itens.\"\"\"\n",
    "    # Find user index\n",
    "    user_idx = np.where(user_ids == user_id)[0]\n",
    "    if len(user_idx) == 0:\n",
    "        return pl.DataFrame()\n",
    "\n",
    "    user_idx = user_idx[0]\n",
    "    user_ratings = user_item_values[user_idx]\n",
    "\n",
    "    # Find unrated movies\n",
    "    unrated_indices = np.where(user_ratings == 0)[0]\n",
    "    unrated_movie_ids = [movie_ids[i] for i in unrated_indices]\n",
    "\n",
    "    predictions = []\n",
    "    for movie_id in unrated_movie_ids:\n",
    "        pred = predict_rating(\n",
    "            user_id,\n",
    "            movie_id,\n",
    "            user_item_values,\n",
    "            user_ids,\n",
    "            movie_ids,\n",
    "            item_similarity_dense,\n",
    "            top_k_neighbors,\n",
    "        )\n",
    "        if pred > 0:\n",
    "            predictions.append({\"movieId\": movie_id, \"predicted_rating\": pred})\n",
    "\n",
    "    if not predictions:\n",
    "        return pl.DataFrame()\n",
    "\n",
    "    # Create Polars DataFrame and sort\n",
    "    recommendations = (\n",
    "        pl.DataFrame(predictions)\n",
    "        .with_columns(pl.col(\"movieId\").cast(pl.Int64))  # Ensure movieId is Int64\n",
    "        .sort(\"predicted_rating\", descending=True)\n",
    "        .head(top_n)\n",
    "    )\n",
    "\n",
    "    # Join with movies data\n",
    "    return recommendations.join(\n",
    "        movies.select([\"movieId\", \"title\", \"genres\"]), on=\"movieId\", how=\"left\"\n",
    "    )"
   ]
  },
  {
   "cell_type": "markdown",
   "id": "84e49bcf",
   "metadata": {},
   "source": [
    "### Teste do Sistema de Filtragem Colaborativa\n",
    "\n",
    "Testamos o recomendador CF com um usuário específico:\n",
    "1. Mostramos os filmes que o usuário avaliou com maiores notas\n",
    "2. Geramos recomendações baseadas em similaridade com esses filmes\n",
    "3. A ideia é que as recomendações sejam similares aos filmes bem avaliados"
   ]
  },
  {
   "cell_type": "code",
   "execution_count": 49,
   "id": "1ab50c9a",
   "metadata": {},
   "outputs": [],
   "source": [
    "test_user = 1"
   ]
  },
  {
   "cell_type": "code",
   "execution_count": 50,
   "id": "b97e03de",
   "metadata": {},
   "outputs": [
    {
     "name": "stdout",
     "output_type": "stream",
     "text": [
      "\n",
      "User's Top-Rated Movies:\n",
      "shape: (5, 3)\n",
      "┌─────────────────────────────┬────────┬────────────────────────────────┐\n",
      "│ title                       ┆ rating ┆ genres                         │\n",
      "│ ---                         ┆ ---    ┆ ---                            │\n",
      "│ str                         ┆ f64    ┆ str                            │\n",
      "╞═════════════════════════════╪════════╪════════════════════════════════╡\n",
      "│ Seven (a.k.a. Se7en) (1995) ┆ 5.0    ┆ Mystery Thriller               │\n",
      "│ Usual Suspects, The (1995)  ┆ 5.0    ┆ Crime Mystery Thriller         │\n",
      "│ Bottle Rocket (1996)        ┆ 5.0    ┆ Adventure Comedy Crime Romance │\n",
      "│ Rob Roy (1995)              ┆ 5.0    ┆ Action Drama Romance War       │\n",
      "│ Canadian Bacon (1995)       ┆ 5.0    ┆ Comedy War                     │\n",
      "└─────────────────────────────┴────────┴────────────────────────────────┘\n"
     ]
    }
   ],
   "source": [
    "# User's top-rated movies\n",
    "user_top_ratings = (\n",
    "    ratings.filter(pl.col(\"userId\") == test_user)\n",
    "    .join(movies.select([\"movieId\", \"title\", \"genres\"]), on=\"movieId\", how=\"left\")\n",
    "    .sort(\"rating\", descending=True)\n",
    "    .head(5)\n",
    "    .select([\"title\", \"rating\", \"genres\"])\n",
    ")\n",
    "print(\"\\nUser's Top-Rated Movies:\")\n",
    "print(user_top_ratings)"
   ]
  },
  {
   "cell_type": "code",
   "execution_count": 51,
   "id": "5f2c461c",
   "metadata": {},
   "outputs": [
    {
     "name": "stdout",
     "output_type": "stream",
     "text": [
      "Collaborative Filtering Recommendations:\n",
      "shape: (10, 4)\n",
      "┌─────────┬──────────────────┬─────────────────────────────────┬─────────────────────────────────┐\n",
      "│ movieId ┆ predicted_rating ┆ title                           ┆ genres                          │\n",
      "│ ---     ┆ ---              ┆ ---                             ┆ ---                             │\n",
      "│ i64     ┆ f64              ┆ str                             ┆ str                             │\n",
      "╞═════════╪══════════════════╪═════════════════════════════════╪═════════════════════════════════╡\n",
      "│ 79132   ┆ 5.0              ┆ Inception (2010)                ┆ Action Crime Drama Mystery Sci… │\n",
      "│ 348     ┆ 5.0              ┆ Bullets Over Broadway (1994)    ┆ Comedy                          │\n",
      "│ 2671    ┆ 5.0              ┆ Notting Hill (1999)             ┆ Comedy Romance                  │\n",
      "│ 3751    ┆ 5.0              ┆ Chicken Run (2000)              ┆ Animation Children Comedy       │\n",
      "│ 4262    ┆ 5.0              ┆ Scarface (1983)                 ┆ Action Crime Drama              │\n",
      "│ 1489    ┆ 5.0              ┆ Cats Don't Dance (1997)         ┆ Animation Children Musical      │\n",
      "│ 2746    ┆ 5.0              ┆ Little Shop of Horrors (1986)   ┆ Comedy Horror Musical           │\n",
      "│ 55820   ┆ 5.0              ┆ No Country for Old Men (2007)   ┆ Crime Drama                     │\n",
      "│ 1287    ┆ 5.0              ┆ Ben-Hur (1959)                  ┆ Action Adventure Drama          │\n",
      "│ 562     ┆ 5.0              ┆ Welcome to the Dollhouse (1995… ┆ Comedy Drama                    │\n",
      "└─────────┴──────────────────┴─────────────────────────────────┴─────────────────────────────────┘\n"
     ]
    }
   ],
   "source": [
    "cf_recommendations = recommend_cf(\n",
    "    test_user,\n",
    "    user_item_matrix_values,\n",
    "    user_ids,\n",
    "    movie_ids,\n",
    "    item_similarity_dense,\n",
    "    top_k_neighbors,\n",
    "    movies,\n",
    "    10,\n",
    ")\n",
    "print(\"Collaborative Filtering Recommendations:\")\n",
    "print(cf_recommendations)"
   ]
  },
  {
   "cell_type": "markdown",
   "id": "2c2e2de5",
   "metadata": {},
   "source": [
    "## Implementação de Filtragem Baseada em Conteúdo\n",
    "\n",
    "### Fundamentação Teórica (Capítulo 10, Falk)\n",
    "\n",
    "A filtragem baseada em conteúdo recomenda itens semelhantes aos que o usuário gostou,\n",
    "com base nas características dos itens. O Capítulo 10 aborda a abordagem completa baseada em conteúdo:\n",
    "\n",
    "1. **Extração de Características**: Extrai características dos metadados do item (gêneros, tags, descrições)\n",
    "2. **TF-IDF (Frequência de Termos - Frequência Inversa do Documento)**: Pondera os termos por importância\n",
    "- **TF**: Com que frequência um termo aparece em um documento (importância local)\n",
    "- **IDF**: Quão raro o termo é em todos os documentos (importância global)\n",
    "- Fórmula: $\\text{TF-IDF}(t,d) = \\text{TF}(t,d) \\times \\log\\frac{N}{\\text{DF}(t)}$\n",
    "\n",
    "3. **Modelo de Espaço Vetorial**: Cada item é um vetor em um espaço de características de alta dimensão\n",
    "4. **Similaridade de Cossenos**: Mede a similaridade entre vetores de características\n",
    "\n",
    "**Vantagens** (Capítulo 10):\n",
    "- Sem problemas de inicialização a frio para itens com metadados\n",
    "- Recomendações transparentes (explicáveis ​​por características)\n",
    "- Independência do usuário (não precisa de outros usuários dados)\n",
    "\n",
    "**Desafios** (Capítulo 10):\n",
    "- Serendipidade limitada (superespecialização)\n",
    "- Requer metadados de itens ricos e de alta qualidade\n",
    "- A engenharia de recursos é específica do domínio"
   ]
  },
  {
   "cell_type": "markdown",
   "id": "d8b34420",
   "metadata": {},
   "source": [
    "### Agregação de Tags por Filme\n",
    "\n",
    "Múltiplos usuários podem atribuir múltiplas tags ao mesmo filme, gerando várias linhas\n",
    "por filme no dataset de tags. Agregamos todas as tags de cada filme em uma única string\n",
    "para facilitar a vetorização TF-IDF."
   ]
  },
  {
   "cell_type": "code",
   "execution_count": 52,
   "id": "f0362e39",
   "metadata": {},
   "outputs": [],
   "source": [
    "movie_tags = tags.group_by(\"movieId\").agg(\n",
    "    pl.col(\"tag\").str.to_lowercase().str.join(\" \").alias(\"tags\")\n",
    ")"
   ]
  },
  {
   "cell_type": "code",
   "execution_count": 53,
   "id": "1b91e188",
   "metadata": {},
   "outputs": [
    {
     "data": {
      "text/html": [
       "<div><style>\n",
       ".dataframe > thead > tr,\n",
       ".dataframe > tbody > tr {\n",
       "  text-align: right;\n",
       "  white-space: pre-wrap;\n",
       "}\n",
       "</style>\n",
       "<small>shape: (5, 2)</small><table border=\"1\" class=\"dataframe\"><thead><tr><th>movieId</th><th>tags</th></tr><tr><td>i64</td><td>str</td></tr></thead><tbody><tr><td>27808</td><td>&quot;adam sandler family sweet&quot;</td></tr><tr><td>97938</td><td>&quot;cinematography india surreal&quot;</td></tr><tr><td>6708</td><td>&quot;con men fatherhood&quot;</td></tr><tr><td>2641</td><td>&quot;superhero&quot;</td></tr><tr><td>4347</td><td>&quot;holocaust&quot;</td></tr></tbody></table></div>"
      ],
      "text/plain": [
       "shape: (5, 2)\n",
       "┌─────────┬──────────────────────────────┐\n",
       "│ movieId ┆ tags                         │\n",
       "│ ---     ┆ ---                          │\n",
       "│ i64     ┆ str                          │\n",
       "╞═════════╪══════════════════════════════╡\n",
       "│ 27808   ┆ adam sandler family sweet    │\n",
       "│ 97938   ┆ cinematography india surreal │\n",
       "│ 6708    ┆ con men fatherhood           │\n",
       "│ 2641    ┆ superhero                    │\n",
       "│ 4347    ┆ holocaust                    │\n",
       "└─────────┴──────────────────────────────┘"
      ]
     },
     "execution_count": 53,
     "metadata": {},
     "output_type": "execute_result"
    }
   ],
   "source": [
    "movie_tags.head()"
   ]
  },
  {
   "cell_type": "markdown",
   "id": "a9d6ed4b",
   "metadata": {},
   "source": [
    "### Construção do Dataset de Conteúdo\n",
    "\n",
    "Combinamos todas as features de conteúdo (gêneros + tags) em um único campo `content`\n",
    "que representa o \"documento\" de cada filme. Este documento será vetorizado para\n",
    "calcular similaridades baseadas em conteúdo."
   ]
  },
  {
   "cell_type": "code",
   "execution_count": 54,
   "id": "f0aaa876",
   "metadata": {},
   "outputs": [
    {
     "data": {
      "text/html": [
       "<div><style>\n",
       ".dataframe > thead > tr,\n",
       ".dataframe > tbody > tr {\n",
       "  text-align: right;\n",
       "  white-space: pre-wrap;\n",
       "}\n",
       "</style>\n",
       "<small>shape: (5, 4)</small><table border=\"1\" class=\"dataframe\"><thead><tr><th>movieId</th><th>title</th><th>genres</th><th>tags</th></tr><tr><td>i64</td><td>str</td><td>str</td><td>str</td></tr></thead><tbody><tr><td>1</td><td>&quot;Toy Story (1995)&quot;</td><td>&quot;Adventure Animation Children C…</td><td>&quot;pixar pixar fun&quot;</td></tr><tr><td>2</td><td>&quot;Jumanji (1995)&quot;</td><td>&quot;Adventure Children Fantasy&quot;</td><td>&quot;fantasy magic board game robin…</td></tr><tr><td>3</td><td>&quot;Grumpier Old Men (1995)&quot;</td><td>&quot;Comedy Romance&quot;</td><td>&quot;moldy old&quot;</td></tr><tr><td>4</td><td>&quot;Waiting to Exhale (1995)&quot;</td><td>&quot;Comedy Drama Romance&quot;</td><td>&quot;&quot;</td></tr><tr><td>5</td><td>&quot;Father of the Bride Part II (1…</td><td>&quot;Comedy&quot;</td><td>&quot;pregnancy remake&quot;</td></tr></tbody></table></div>"
      ],
      "text/plain": [
       "shape: (5, 4)\n",
       "┌─────────┬─────────────────────────────┬─────────────────────────────┬────────────────────────────┐\n",
       "│ movieId ┆ title                       ┆ genres                      ┆ tags                       │\n",
       "│ ---     ┆ ---                         ┆ ---                         ┆ ---                        │\n",
       "│ i64     ┆ str                         ┆ str                         ┆ str                        │\n",
       "╞═════════╪═════════════════════════════╪═════════════════════════════╪════════════════════════════╡\n",
       "│ 1       ┆ Toy Story (1995)            ┆ Adventure Animation         ┆ pixar pixar fun            │\n",
       "│         ┆                             ┆ Children C…                 ┆                            │\n",
       "│ 2       ┆ Jumanji (1995)              ┆ Adventure Children Fantasy  ┆ fantasy magic board game   │\n",
       "│         ┆                             ┆                             ┆ robin…                     │\n",
       "│ 3       ┆ Grumpier Old Men (1995)     ┆ Comedy Romance              ┆ moldy old                  │\n",
       "│ 4       ┆ Waiting to Exhale (1995)    ┆ Comedy Drama Romance        ┆                            │\n",
       "│ 5       ┆ Father of the Bride Part II ┆ Comedy                      ┆ pregnancy remake           │\n",
       "│         ┆ (1…                         ┆                             ┆                            │\n",
       "└─────────┴─────────────────────────────┴─────────────────────────────┴────────────────────────────┘"
      ]
     },
     "execution_count": 54,
     "metadata": {},
     "output_type": "execute_result"
    }
   ],
   "source": [
    "movies_content = movies.join(movie_tags, on=\"movieId\", how=\"left\")\n",
    "movies_content = movies_content.with_columns(pl.col(\"tags\").fill_null(\"\"))\n",
    "movies_content.head()"
   ]
  },
  {
   "cell_type": "code",
   "execution_count": 55,
   "id": "51d3e25e",
   "metadata": {},
   "outputs": [],
   "source": [
    "movies_content = movies_content.with_columns(\n",
    "    pl.concat_str([pl.col(\"genres\"), pl.col(\"tags\")]).alias(\"content\")\n",
    ")\n",
    "\n",
    "movies_content = movies_content.sort(\"movieId\")"
   ]
  },
  {
   "cell_type": "markdown",
   "id": "fb83c959",
   "metadata": {},
   "source": [
    "### Limpeza e Normalização de Texto\n",
    "\n",
    "Aplicamos as funções de limpeza definidas anteriormente para:\n",
    "- Remover acentos\n",
    "- Converter para minúsculas\n",
    "- Filtrar stopwords\n",
    "\n",
    "Isso melhora a qualidade da vetorização TF-IDF ao focar em termos informativos."
   ]
  },
  {
   "cell_type": "code",
   "execution_count": 56,
   "id": "5ef11949",
   "metadata": {},
   "outputs": [
    {
     "data": {
      "text/html": [
       "<div><style>\n",
       ".dataframe > thead > tr,\n",
       ".dataframe > tbody > tr {\n",
       "  text-align: right;\n",
       "  white-space: pre-wrap;\n",
       "}\n",
       "</style>\n",
       "<small>shape: (5, 5)</small><table border=\"1\" class=\"dataframe\"><thead><tr><th>movieId</th><th>title</th><th>genres</th><th>tags</th><th>content</th></tr><tr><td>i64</td><td>str</td><td>str</td><td>str</td><td>str</td></tr></thead><tbody><tr><td>1</td><td>&quot;Toy Story (1995)&quot;</td><td>&quot;Adventure Animation Children C…</td><td>&quot;pixar pixar fun&quot;</td><td>&quot;adventure animation children c…</td></tr><tr><td>2</td><td>&quot;Jumanji (1995)&quot;</td><td>&quot;Adventure Children Fantasy&quot;</td><td>&quot;fantasy magic board game robin…</td><td>&quot;adventure children fantasyfant…</td></tr><tr><td>3</td><td>&quot;Grumpier Old Men (1995)&quot;</td><td>&quot;Comedy Romance&quot;</td><td>&quot;moldy old&quot;</td><td>&quot;comedy romancemoldy old&quot;</td></tr><tr><td>4</td><td>&quot;Waiting to Exhale (1995)&quot;</td><td>&quot;Comedy Drama Romance&quot;</td><td>&quot;&quot;</td><td>&quot;comedy drama romance&quot;</td></tr><tr><td>5</td><td>&quot;Father of the Bride Part II (1…</td><td>&quot;Comedy&quot;</td><td>&quot;pregnancy remake&quot;</td><td>&quot;comedypregnancy remake&quot;</td></tr></tbody></table></div>"
      ],
      "text/plain": [
       "shape: (5, 5)\n",
       "┌─────────┬──────────────────────┬─────────────────────┬─────────────────────┬─────────────────────┐\n",
       "│ movieId ┆ title                ┆ genres              ┆ tags                ┆ content             │\n",
       "│ ---     ┆ ---                  ┆ ---                 ┆ ---                 ┆ ---                 │\n",
       "│ i64     ┆ str                  ┆ str                 ┆ str                 ┆ str                 │\n",
       "╞═════════╪══════════════════════╪═════════════════════╪═════════════════════╪═════════════════════╡\n",
       "│ 1       ┆ Toy Story (1995)     ┆ Adventure Animation ┆ pixar pixar fun     ┆ adventure animation │\n",
       "│         ┆                      ┆ Children C…         ┆                     ┆ children c…         │\n",
       "│ 2       ┆ Jumanji (1995)       ┆ Adventure Children  ┆ fantasy magic board ┆ adventure children  │\n",
       "│         ┆                      ┆ Fantasy             ┆ game robin…         ┆ fantasyfant…        │\n",
       "│ 3       ┆ Grumpier Old Men     ┆ Comedy Romance      ┆ moldy old           ┆ comedy romancemoldy │\n",
       "│         ┆ (1995)               ┆                     ┆                     ┆ old                 │\n",
       "│ 4       ┆ Waiting to Exhale    ┆ Comedy Drama        ┆                     ┆ comedy drama        │\n",
       "│         ┆ (1995)               ┆ Romance             ┆                     ┆ romance             │\n",
       "│ 5       ┆ Father of the Bride  ┆ Comedy              ┆ pregnancy remake    ┆ comedypregnancy     │\n",
       "│         ┆ Part II (1…          ┆                     ┆                     ┆ remake              │\n",
       "└─────────┴──────────────────────┴─────────────────────┴─────────────────────┴─────────────────────┘"
      ]
     },
     "execution_count": 56,
     "metadata": {},
     "output_type": "execute_result"
    }
   ],
   "source": [
    "movies_content = movies_content.with_columns(\n",
    "    pl.col(\"content\").map_elements(clean_text, return_dtype=pl.String).alias(\"content\")\n",
    ")\n",
    "movies_content.head()"
   ]
  },
  {
   "cell_type": "markdown",
   "id": "2304e83e",
   "metadata": {},
   "source": [
    "### Vetorização TF-IDF\n",
    "\n",
    "Transformamos os documentos de texto em vetores numéricos usando TF-IDF:\n",
    "- **Unigramas e bigramas** (n-grams 1-2): Captura termos individuais e pares de termos consecutivos\n",
    "- **Stopwords removidas**: Foco em termos semanticamente relevantes\n",
    "- **Matriz esparsa resultante**: Cada filme é um vetor de pesos TF-IDF"
   ]
  },
  {
   "cell_type": "code",
   "execution_count": 57,
   "id": "1df7e0bc",
   "metadata": {},
   "outputs": [],
   "source": [
    "from sklearn.feature_extraction.text import TfidfVectorizer\n",
    "\n",
    "tfidf = TfidfVectorizer(\n",
    "    max_features=None,  # Limit features for efficiency\n",
    "    stop_words=\"english\",  # Remove common English words\n",
    "    ngram_range=(1, 2),  # Use unigrams and bigrams\n",
    ")\n",
    "tfidf_matrix = tfidf.fit_transform(movies_content[\"content\"])"
   ]
  },
  {
   "cell_type": "markdown",
   "id": "bbe02037",
   "metadata": {},
   "source": [
    "### Cálculo da Similaridade de Conteúdo\n",
    "\n",
    "Computamos similaridade cosseno entre os vetores TF-IDF de todos os filmes.\n",
    "Filmes com vocabulário similar (gêneros e tags parecidas) terão alta similaridade,\n",
    "independentemente das avaliações dos usuários."
   ]
  },
  {
   "cell_type": "code",
   "execution_count": 58,
   "id": "273eefbe",
   "metadata": {},
   "outputs": [],
   "source": [
    "content_similarity = cosine_similarity(tfidf_matrix)"
   ]
  },
  {
   "cell_type": "markdown",
   "id": "5ee97f72",
   "metadata": {},
   "source": [
    "### Funções de Busca e Recomendação Baseada em Conteúdo\n",
    "\n",
    "**get_similar_movies**: Encontra filmes similares a um filme específico baseado apenas em conteúdo.\n",
    "\n",
    "**recommend_content**: Gera recomendações para um usuário:\n",
    "1. Identifica filmes bem avaliados pelo usuário (rating ≥ threshold)\n",
    "2. Para cada filme bem avaliado, encontra filmes similares por conteúdo\n",
    "3. Agrega scores de similaridade ponderados pelo rating do usuário\n",
    "4. Filtra filmes já vistos\n",
    "5. Retorna top-N por score agregado"
   ]
  },
  {
   "cell_type": "code",
   "execution_count": 59,
   "id": "16d25ee5",
   "metadata": {},
   "outputs": [],
   "source": [
    "def get_similar_movies(movie_id, movies_content, content_similarity, top_n=10):\n",
    "    \"\"\"\n",
    "    Find movies most similar to a given movie based on content.\n",
    "\n",
    "    Args:\n",
    "        movie_id: Target movie ID\n",
    "        movies_content: DataFrame with movie metadata\n",
    "        content_similarity: Cosine similarity matrix\n",
    "        top_n: Number of similar movies to return\n",
    "\n",
    "    Returns:\n",
    "        DataFrame with similar movies and similarity scores\n",
    "    \"\"\"\n",
    "    # Find the index of the movie\n",
    "    movie_indices = np.where(movies_content[\"movieId\"].to_numpy() == movie_id)[0]\n",
    "\n",
    "    if len(movie_indices) == 0:\n",
    "        return pl.DataFrame()\n",
    "\n",
    "    movie_idx = movie_indices[0]\n",
    "\n",
    "    # Get similarity scores for this movie\n",
    "    similarity_scores = content_similarity[movie_idx]\n",
    "\n",
    "    # Get indices of most similar movies (excluding self)\n",
    "    similar_indices = np.argsort(similarity_scores)[::-1][1 : top_n + 1]\n",
    "\n",
    "    # Create DataFrame with results\n",
    "    similar_movies = (\n",
    "        movies_content[similar_indices]\n",
    "        .select([\"movieId\", \"title\", \"genres\"])\n",
    "        .with_columns(pl.Series(\"similarity\", similarity_scores[similar_indices]))\n",
    "    )\n",
    "\n",
    "    return similar_movies\n",
    "\n",
    "\n",
    "def recommend_content(\n",
    "    user_id, ratings, movies_content, content_similarity, top_n=10, min_rating=4.0\n",
    "):\n",
    "    \"\"\"\n",
    "    Generate top-n recommendations using content-based filtering.\n",
    "\n",
    "    Algorithm from Chapter 10 (Content-Based Filtering):\n",
    "    1. Build user profile from highly rated items (>= min_rating)\n",
    "    2. For each item in user profile, find similar items using content features\n",
    "    3. Aggregate similarity scores (weighted by user's rating)\n",
    "    4. Filter out already-seen items\n",
    "    5. Return top-n by aggregated content similarity\n",
    "\n",
    "    Args:\n",
    "        user_id: Target user ID\n",
    "        ratings: Ratings DataFrame\n",
    "        movies_content: Movies DataFrame with content features\n",
    "        content_similarity: Cosine similarity matrix\n",
    "        top_n: Number of recommendations to return\n",
    "        min_rating: Minimum rating threshold for \"liked\" movies\n",
    "\n",
    "    Returns:\n",
    "        DataFrame with columns [movieId, title, content_score, genres]\n",
    "    \"\"\"\n",
    "    # Get user's highly rated movies\n",
    "    liked_movies = ratings.filter(\n",
    "        (pl.col(\"userId\") == user_id) & (pl.col(\"rating\") >= min_rating)\n",
    "    )\n",
    "\n",
    "    if liked_movies.height == 0:\n",
    "        print(f\"User {user_id} has no highly rated movies (>= {min_rating})\")\n",
    "        return pl.DataFrame()\n",
    "\n",
    "    print(f\"User {user_id} has {liked_movies.height} highly rated movies\")\n",
    "    print(f\"Finding content-based recommendations...\")\n",
    "\n",
    "    # Get all movies user has seen\n",
    "    user_rated = ratings.filter(pl.col(\"userId\") == user_id)\n",
    "    seen_movie_ids = set(user_rated[\"movieId\"].to_list())\n",
    "\n",
    "    # Build aggregated similarity scores\n",
    "    movie_ids_array = movies_content[\"movieId\"].to_numpy()\n",
    "    aggregated_scores = {}\n",
    "\n",
    "    for row in liked_movies.iter_rows(named=True):\n",
    "        movie_id = row[\"movieId\"]\n",
    "        user_rating = row[\"rating\"]\n",
    "\n",
    "        # Find index in content similarity matrix\n",
    "        movie_indices = np.where(movie_ids_array == movie_id)[0]\n",
    "\n",
    "        if len(movie_indices) == 0:\n",
    "            continue\n",
    "\n",
    "        movie_idx = movie_indices[0]\n",
    "\n",
    "        # Get similarities and weight by user's rating\n",
    "        similarities = content_similarity[movie_idx]\n",
    "        weight = user_rating / 5.0\n",
    "\n",
    "        # Accumulate weighted scores for all movies\n",
    "        for i, sim_score in enumerate(similarities):\n",
    "            candidate_movie_id = movie_ids_array[i]\n",
    "\n",
    "            # Skip the movie itself\n",
    "            if candidate_movie_id == movie_id:\n",
    "                continue\n",
    "\n",
    "            weighted_score = sim_score * weight\n",
    "\n",
    "            if candidate_movie_id in aggregated_scores:\n",
    "                aggregated_scores[candidate_movie_id] += weighted_score\n",
    "            else:\n",
    "                aggregated_scores[candidate_movie_id] = weighted_score\n",
    "\n",
    "    # Filter out seen movies\n",
    "    recommendations = {\n",
    "        movie_id: score\n",
    "        for movie_id, score in aggregated_scores.items()\n",
    "        if movie_id not in seen_movie_ids\n",
    "    }\n",
    "\n",
    "    if len(recommendations) == 0:\n",
    "        print(\"No new recommendations could be generated\")\n",
    "        return pl.DataFrame()\n",
    "\n",
    "    # Convert to DataFrame\n",
    "    recommendations_df = pl.DataFrame(\n",
    "        {\n",
    "            \"movieId\": list(recommendations.keys()),\n",
    "            \"content_score\": list(recommendations.values()),\n",
    "        }\n",
    "    )\n",
    "\n",
    "    # Sort and get top-n\n",
    "    recommendations_df = recommendations_df.sort(\"content_score\", descending=True).head(\n",
    "        top_n\n",
    "    )\n",
    "\n",
    "    # Join with movie details\n",
    "    result = recommendations_df.join(\n",
    "        movies_content.select([\"movieId\", \"title\", \"genres\"]), on=\"movieId\", how=\"left\"\n",
    "    ).select([\"movieId\", \"title\", \"content_score\", \"genres\"])\n",
    "\n",
    "    return result"
   ]
  },
  {
   "cell_type": "markdown",
   "id": "acb16834",
   "metadata": {},
   "source": [
    "### Teste de Similaridade de Conteúdo: Toy Story\n",
    "\n",
    "Demonstramos a busca de filmes similares usando apenas características de conteúdo.\n",
    "Esperamos encontrar filmes com gêneros e tags similares a Toy Story (Animation, Children's, Comedy)."
   ]
  },
  {
   "cell_type": "code",
   "execution_count": 60,
   "id": "02098d84",
   "metadata": {},
   "outputs": [
    {
     "name": "stdout",
     "output_type": "stream",
     "text": [
      "\n",
      "Movies similar to Toy Story (movieId=1):\n",
      "shape: (5, 4)\n",
      "┌─────────┬─────────────────────────────────┬─────────────────────────────────┬────────────┐\n",
      "│ movieId ┆ title                           ┆ genres                          ┆ similarity │\n",
      "│ ---     ┆ ---                             ┆ ---                             ┆ ---        │\n",
      "│ i64     ┆ str                             ┆ str                             ┆ f64        │\n",
      "╞═════════╪═════════════════════════════════╪═════════════════════════════════╪════════════╡\n",
      "│ 94833   ┆ Pirates! Band of Misfits, The … ┆ Adventure Animation Children C… ┆ 0.40832    │\n",
      "│ 2141    ┆ American Tail, An (1986)        ┆ Adventure Animation Children C… ┆ 0.40832    │\n",
      "│ 5448    ┆ Hey Arnold! The Movie (2002)    ┆ Adventure Animation Children C… ┆ 0.40832    │\n",
      "│ 95313   ┆ Jack-Jack Attack (2005)         ┆ Adventure Animation Children C… ┆ 0.40832    │\n",
      "│ 160569  ┆ Ice Age: Collision Course (201… ┆ Adventure Animation Children C… ┆ 0.40832    │\n",
      "└─────────┴─────────────────────────────────┴─────────────────────────────────┴────────────┘\n"
     ]
    }
   ],
   "source": [
    "# Example: Find movies similar to a specific movie\n",
    "toy_story_id = (\n",
    "    movies.filter(pl.col(\"title\").str.contains(\"Toy Story\"))\n",
    "    .select(\"movieId\")\n",
    "    .head(1)\n",
    "    .item()\n",
    ")\n",
    "print(f\"\\nMovies similar to Toy Story (movieId={toy_story_id}):\")\n",
    "similar_to_toy_story = get_similar_movies(\n",
    "    toy_story_id, movies_content, content_similarity, top_n=5\n",
    ")\n",
    "print(similar_to_toy_story)"
   ]
  },
  {
   "cell_type": "markdown",
   "id": "519da13b",
   "metadata": {},
   "source": [
    "### Teste do Sistema de Recomendação Baseada em Conteúdo\n",
    "\n",
    "Geramos recomendações para o mesmo usuário de teste, mas agora usando apenas\n",
    "características de conteúdo. Comparando com CF, podemos observar:\n",
    "- **CF**: Recomenda o que usuários similares gostaram (descoberta social)\n",
    "- **Content-Based**: Recomenda filmes similares aos que o usuário já gostou (consistência temática)"
   ]
  },
  {
   "cell_type": "code",
   "execution_count": 61,
   "id": "321eaea0",
   "metadata": {},
   "outputs": [
    {
     "name": "stdout",
     "output_type": "stream",
     "text": [
      "\n",
      "Content-Based Recommendations:\n",
      "User 1 has 200 highly rated movies\n",
      "Finding content-based recommendations...\n",
      "shape: (10, 4)\n",
      "┌─────────┬─────────────────────────────────┬───────────────┬─────────────────────────────────┐\n",
      "│ movieId ┆ title                           ┆ content_score ┆ genres                          │\n",
      "│ ---     ┆ ---                             ┆ ---           ┆ ---                             │\n",
      "│ i64     ┆ str                             ┆ f64           ┆ str                             │\n",
      "╞═════════╪═════════════════════════════════╪═══════════════╪═════════════════════════════════╡\n",
      "│ 26340   ┆ Twelve Tasks of Asterix, The (… ┆ 27.476291     ┆ Action Adventure Animation Chi… │\n",
      "│ 51939   ┆ TMNT (Teenage Mutant Ninja Tur… ┆ 27.476291     ┆ Action Adventure Animation Chi… │\n",
      "│ 26183   ┆ Asterix and Cleopatra (Astérix… ┆ 26.997685     ┆ Action Adventure Animation Chi… │\n",
      "│ 63859   ┆ Bolt (2008)                     ┆ 26.997685     ┆ Action Adventure Animation Chi… │\n",
      "│ 111146  ┆ Alpha and Omega 3: The Great W… ┆ 26.997685     ┆ Action Adventure Animation Chi… │\n",
      "│ 152081  ┆ Zootopia (2016)                 ┆ 26.997685     ┆ Action Adventure Animation Chi… │\n",
      "│ 40339   ┆ Chicken Little (2005)           ┆ 26.489688     ┆ Action Adventure Animation Chi… │\n",
      "│ 157865  ┆ Ratchet & Clank (2016)          ┆ 26.489688     ┆ Action Adventure Animation Chi… │\n",
      "│ 69644   ┆ Ice Age: Dawn of the Dinosaurs… ┆ 26.054908     ┆ Action Adventure Animation Chi… │\n",
      "│ 558     ┆ Pagemaster, The (1994)          ┆ 25.769161     ┆ Action Adventure Animation Chi… │\n",
      "└─────────┴─────────────────────────────────┴───────────────┴─────────────────────────────────┘\n"
     ]
    }
   ],
   "source": [
    "# Test the content-based recommender\n",
    "print(\"\\nContent-Based Recommendations:\")\n",
    "content_recommendations = recommend_content(\n",
    "    test_user, ratings, movies_content, content_similarity, top_n=10\n",
    ")\n",
    "print(content_recommendations)"
   ]
  },
  {
   "cell_type": "markdown",
   "id": "2cba7b43",
   "metadata": {},
   "source": [
    "## Conclusão e Próximos Passos\n",
    "\n",
    "### Comparação das Abordagens\n",
    "\n",
    "| Aspecto | Filtragem Colaborativa | Filtragem Baseada em Conteúdo |\n",
    "|---------|------------------------|-------------------------------|\n",
    "| **Fonte de dados** | Interações usuário-item | Metadados dos itens |\n",
    "| **Cold start (novos itens)** | Problemático | Funciona bem com metadados |\n",
    "| **Cold start (novos usuários)** | Problemático | Problemático |\n",
    "| **Serendipidade** | Alta (descobre padrões inesperados) | Baixa (superespecialização) |\n",
    "| **Explicabilidade** | Difícil (\"usuários como você gostaram\") | Fácil (\"similar a X que você gostou\") |\n",
    "| **Escalabilidade** | Desafiadora (matriz cresce rapidamente) | Mais escalável (depende de features) |\n",
    "\n",
    "### Melhorias Possíveis\n",
    "\n",
    "1. **Sistema Híbrido**: Combinar CF e content-based para aproveitar vantagens de ambos\n",
    "2. **Fatoração de Matriz**: Usar SVD ou ALS para redução de dimensionalidade e melhor generalização\n",
    "3. **Deep Learning**: Embeddings neurais para capturar relações complexas\n",
    "4. **Features Adicionais**: Incorporar dados temporais, contextuais, ou de texto livre (reviews)\n",
    "5. **Avaliação Offline**: Implementar métricas como RMSE, precision@k, recall@k, NDCG\n",
    "6. **Diversidade**: Balancear accuracy com diversidade nas recomendações\n",
    "\n",
    "### Referências Teóricas Aplicadas\n",
    "\n",
    "- **Capítulo 8 (Falk)**: Neighborhood-based collaborative filtering implementada com item-based CF\n",
    "- **Capítulo 10 (Falk)**: Content-based filtering implementada com TF-IDF e cosine similarity\n",
    "- **Sparse matrices**: Uso de CSR para eficiência computacional com dados esparsos\n",
    "- **K-nearest neighbors**: Pré-computação de vizinhos para otimização de queries"
   ]
  }
 ],
 "metadata": {
  "jupytext": {
   "cell_metadata_filter": "-all",
   "main_language": "python",
   "notebook_metadata_filter": "-all"
  },
  "kernelspec": {
   "display_name": "recommender-system",
   "language": "python",
   "name": "python3"
  },
  "language_info": {
   "codemirror_mode": {
    "name": "ipython",
    "version": 3
   },
   "file_extension": ".py",
   "mimetype": "text/x-python",
   "name": "python",
   "nbconvert_exporter": "python",
   "pygments_lexer": "ipython3",
   "version": "3.12.10"
  }
 },
 "nbformat": 4,
 "nbformat_minor": 5
}
